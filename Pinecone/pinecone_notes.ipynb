{
 "cells": [
  {
   "cell_type": "markdown",
   "metadata": {},
   "source": [
    "## Libraries"
   ]
  },
  {
   "cell_type": "code",
   "execution_count": 1,
   "metadata": {},
   "outputs": [
    {
     "name": "stdout",
     "output_type": "stream",
     "text": [
      "Requirement already satisfied: pinecone-client in c:\\users\\pushy\\anaconda3\\lib\\site-packages (3.2.2)\n",
      "Requirement already satisfied: certifi>=2019.11.17 in c:\\users\\pushy\\anaconda3\\lib\\site-packages (from pinecone-client) (2023.11.17)\n",
      "Requirement already satisfied: tqdm>=4.64.1 in c:\\users\\pushy\\anaconda3\\lib\\site-packages (from pinecone-client) (4.65.0)\n",
      "Requirement already satisfied: typing-extensions>=3.7.4 in c:\\users\\pushy\\anaconda3\\lib\\site-packages (from pinecone-client) (4.10.0)\n",
      "Requirement already satisfied: urllib3>=1.26.0 in c:\\users\\pushy\\anaconda3\\lib\\site-packages (from pinecone-client) (1.26.18)\n",
      "Requirement already satisfied: colorama in c:\\users\\pushy\\anaconda3\\lib\\site-packages (from tqdm>=4.64.1->pinecone-client) (0.4.6)\n",
      "Note: you may need to restart the kernel to use updated packages.\n"
     ]
    }
   ],
   "source": [
    "%pip install pinecone-client"
   ]
  },
  {
   "cell_type": "code",
   "execution_count": 14,
   "metadata": {},
   "outputs": [],
   "source": [
    "import pandas as pd;\n",
    "import numpy as np;\n",
    "import matplotlib.pyplot as plt;\n",
    "import seaborn as sns;\n",
    "import os;\n",
    "import time;\n",
    "import itertools\n",
    "from pinecone import Pinecone, ServerlessSpec, PodSpec;\n",
    "from collections import Counter\n"
   ]
  },
  {
   "cell_type": "markdown",
   "metadata": {},
   "source": [
    "# ***Introduction to Indexes***\n",
    "\n",
    "These notes will have a simple step to get the Pinecone index up and running"
   ]
  },
  {
   "cell_type": "markdown",
   "metadata": {},
   "source": [
    "## Connect to the Pinecone DB\n",
    "\n",
    "We get the API key, then create a spec with a specific dimension (for serverless and server configureations)"
   ]
  },
  {
   "cell_type": "code",
   "execution_count": 4,
   "metadata": {},
   "outputs": [],
   "source": [
    "use_serverless = False"
   ]
  },
  {
   "cell_type": "markdown",
   "metadata": {},
   "source": [
    "As I am poor, I will be using Starter index. The configurations for the the starter index is as follows:\n",
    "\n",
    "| Properties | Value |\n",
    "| ---------- | ------ |\n",
    "| Records | 100,000 |\n",
    "| namespace | 100 |\n",
    "| Clouds server | GCP |\n",
    "| Region  | us-central-1 (Iowa) |\n",
    "\n",
    "- Starter indexes do not support \n",
    "  - Replicas\n",
    "    - duplicating the resources and data in an index\n",
    "  - Collections \n",
    "    - helpful for archiving inactive indexes, and experimenting with different index configurations\n",
    "  - Deleting records by Metadata\n",
    "  - Selective Metadata indexing\n",
    "  - Configuring indexes\n",
    "  - Describing indexes with Metadata filtering\n",
    "  - Metrics.\n",
    "\n",
    "- We can have PodSpecs configured. Pods are the smallest deployable units of computing that you can create and manage in Kubernetes. With pod-based indexes, you choose one or more pre-configured units of hardware (pods). Depending on the pod type, pod size, and number of pods used, you get different amounts of storage and higher or lower latency and throughput.\n",
    "\n",
    "- We can also use different distance metrics: \n",
    "  - euclidean: $d(\\mathbf{a}, \\mathbf{b}) = \\sqrt{\\sum_{i=1}^{n}(a_i - b_i)^2}$\n",
    "  - Cosine: $d(\\mathbf{a}, \\mathbf{b}) = 1 - \\frac{\\mathbf{a} \\cdot \\mathbf{b}}{\\|\\mathbf{a}\\|_2 \\|\\mathbf{b}\\|_2}$\n",
    "  - dot-product: $d(\\mathbf{a}, \\mathbf{b}) = \\mathbf{a} \\cdot \\mathbf{b}$\n"
   ]
  },
  {
   "cell_type": "code",
   "execution_count": 5,
   "metadata": {},
   "outputs": [],
   "source": [
    "\n",
    "# initialize connection to pinecone \n",
    "api_key = os.environ.get('PINECONE_API') \n",
    "environment = os.environ.get('PINECONE_ENVIRONMENT')\n",
    "\n",
    "# configure client\n",
    "pc = Pinecone(api_key = api_key)\n",
    "\n",
    "#we setup our index specification\n",
    "if use_serverless:\n",
    "    spec = ServerlessSpec(cloud='aws', region='us-west-2')\n",
    "else:\n",
    "    spec = PodSpec(environment='gcp-starter')"
   ]
  },
  {
   "cell_type": "markdown",
   "metadata": {},
   "source": [
    "Creating the Pinecone Index based on the above specifications. We will also ensure that this is the updated index by deleting previous indexes with the same name"
   ]
  },
  {
   "cell_type": "code",
   "execution_count": 6,
   "metadata": {},
   "outputs": [],
   "source": [
    "index_name = 'hello-pinecone'\n",
    "\n",
    "def create_index(index_name):\n",
    "    # ensure no duplicates\n",
    "    if index_name in pc.list_indexes().names():\n",
    "        pc.delete_index(index_name)\n",
    "\n",
    "    dimensions = 3\n",
    "    pc.create_index(\n",
    "        name = index_name, \n",
    "        dimension = dimensions, # vector dim\n",
    "        metric = 'cosine', # common similarity\n",
    "        spec = spec\n",
    "    )\n",
    "\n",
    "    # wait for index to be ready before connecting\n",
    "    while not pc.describe_index(index_name).status['ready']:\n",
    "        time.sleep(1)\n",
    "\n",
    "create_index(index_name)"
   ]
  },
  {
   "cell_type": "code",
   "execution_count": 7,
   "metadata": {},
   "outputs": [],
   "source": [
    "index = pc.Index(index_name)"
   ]
  },
  {
   "cell_type": "markdown",
   "metadata": {},
   "source": [
    "## Basic operations\n",
    "\n",
    "We have the index ready. Now we will create some simple vectors to upload and delete from the db"
   ]
  },
  {
   "cell_type": "code",
   "execution_count": 7,
   "metadata": {},
   "outputs": [
    {
     "data": {
      "text/html": [
       "<div>\n",
       "<style scoped>\n",
       "    .dataframe tbody tr th:only-of-type {\n",
       "        vertical-align: middle;\n",
       "    }\n",
       "\n",
       "    .dataframe tbody tr th {\n",
       "        vertical-align: top;\n",
       "    }\n",
       "\n",
       "    .dataframe thead th {\n",
       "        text-align: right;\n",
       "    }\n",
       "</style>\n",
       "<table border=\"1\" class=\"dataframe\">\n",
       "  <thead>\n",
       "    <tr style=\"text-align: right;\">\n",
       "      <th></th>\n",
       "      <th>id</th>\n",
       "      <th>vector</th>\n",
       "    </tr>\n",
       "  </thead>\n",
       "  <tbody>\n",
       "    <tr>\n",
       "      <th>0</th>\n",
       "      <td>A</td>\n",
       "      <td>[1.0, 1.0, 1.0]</td>\n",
       "    </tr>\n",
       "    <tr>\n",
       "      <th>1</th>\n",
       "      <td>B</td>\n",
       "      <td>[1.0, 2.0, 3.0]</td>\n",
       "    </tr>\n",
       "  </tbody>\n",
       "</table>\n",
       "</div>"
      ],
      "text/plain": [
       "  id           vector\n",
       "0  A  [1.0, 1.0, 1.0]\n",
       "1  B  [1.0, 2.0, 3.0]"
      ]
     },
     "execution_count": 7,
     "metadata": {},
     "output_type": "execute_result"
    }
   ],
   "source": [
    "df = pd.DataFrame(\n",
    "    data={\n",
    "        \"id\": [\"A\", \"B\"],\n",
    "        \"vector\": [[1., 1., 1.], [1., 2., 3.]]\n",
    "    })\n",
    "df"
   ]
  },
  {
   "cell_type": "code",
   "execution_count": 8,
   "metadata": {},
   "outputs": [
    {
     "data": {
      "text/plain": [
       "{'upserted_count': 2}"
      ]
     },
     "execution_count": 8,
     "metadata": {},
     "output_type": "execute_result"
    }
   ],
   "source": [
    "index.upsert(vectors=zip(df.id, df.vector))  # insert vectors"
   ]
  },
  {
   "cell_type": "markdown",
   "metadata": {},
   "source": [
    "We can not **Delete** the indices too and close the connection (in this case, the Pinecone client will handle the connection management for you automatically.)."
   ]
  },
  {
   "cell_type": "code",
   "execution_count": 9,
   "metadata": {},
   "outputs": [],
   "source": [
    "pc.delete_index(index_name)"
   ]
  },
  {
   "cell_type": "markdown",
   "metadata": {},
   "source": [
    "# ***Interacting with Pinecone indexes***"
   ]
  },
  {
   "cell_type": "markdown",
   "metadata": {},
   "source": [
    "We will create the same index and then upsert a vector with few values."
   ]
  },
  {
   "cell_type": "code",
   "execution_count": 10,
   "metadata": {},
   "outputs": [],
   "source": [
    "create_index(index_name)\n",
    "index = pc.Index(index_name)"
   ]
  },
  {
   "cell_type": "code",
   "execution_count": 11,
   "metadata": {},
   "outputs": [
    {
     "data": {
      "text/html": [
       "<div>\n",
       "<style scoped>\n",
       "    .dataframe tbody tr th:only-of-type {\n",
       "        vertical-align: middle;\n",
       "    }\n",
       "\n",
       "    .dataframe tbody tr th {\n",
       "        vertical-align: top;\n",
       "    }\n",
       "\n",
       "    .dataframe thead th {\n",
       "        text-align: right;\n",
       "    }\n",
       "</style>\n",
       "<table border=\"1\" class=\"dataframe\">\n",
       "  <thead>\n",
       "    <tr style=\"text-align: right;\">\n",
       "      <th></th>\n",
       "      <th>id</th>\n",
       "      <th>vector</th>\n",
       "    </tr>\n",
       "  </thead>\n",
       "  <tbody>\n",
       "    <tr>\n",
       "      <th>0</th>\n",
       "      <td>A</td>\n",
       "      <td>[1.0, 1.0, 1.0]</td>\n",
       "    </tr>\n",
       "    <tr>\n",
       "      <th>1</th>\n",
       "      <td>B</td>\n",
       "      <td>[2.0, 2.0, 2.0]</td>\n",
       "    </tr>\n",
       "    <tr>\n",
       "      <th>2</th>\n",
       "      <td>C</td>\n",
       "      <td>[3.0, 3.0, 3.0]</td>\n",
       "    </tr>\n",
       "    <tr>\n",
       "      <th>3</th>\n",
       "      <td>D</td>\n",
       "      <td>[4.0, 4.0, 4.0]</td>\n",
       "    </tr>\n",
       "    <tr>\n",
       "      <th>4</th>\n",
       "      <td>E</td>\n",
       "      <td>[5.0, 5.0, 5.0]</td>\n",
       "    </tr>\n",
       "  </tbody>\n",
       "</table>\n",
       "</div>"
      ],
      "text/plain": [
       "  id           vector\n",
       "0  A  [1.0, 1.0, 1.0]\n",
       "1  B  [2.0, 2.0, 2.0]\n",
       "2  C  [3.0, 3.0, 3.0]\n",
       "3  D  [4.0, 4.0, 4.0]\n",
       "4  E  [5.0, 5.0, 5.0]"
      ]
     },
     "execution_count": 11,
     "metadata": {},
     "output_type": "execute_result"
    }
   ],
   "source": [
    "df = pd.DataFrame()\n",
    "df[\"id\"] = [\"A\", \"B\", \"C\", \"D\", \"E\"]\n",
    "df[\"vector\"] = [[1., 1.,1.], [2., 2.,2.], [3., 3.,3.], [4., 4.,4.], [5., 5.,5.]]\n",
    "df"
   ]
  },
  {
   "cell_type": "code",
   "execution_count": 12,
   "metadata": {},
   "outputs": [
    {
     "data": {
      "text/plain": [
       "{'upserted_count': 5}"
      ]
     },
     "execution_count": 12,
     "metadata": {},
     "output_type": "execute_result"
    }
   ],
   "source": [
    "index.upsert(vectors=zip(df.id, df.vector))"
   ]
  },
  {
   "cell_type": "markdown",
   "metadata": {},
   "source": [
    "### Fetching vectors"
   ]
  },
  {
   "cell_type": "code",
   "execution_count": 13,
   "metadata": {},
   "outputs": [
    {
     "data": {
      "text/plain": [
       "{'namespace': '',\n",
       " 'usage': {'read_units': 1},\n",
       " 'vectors': {'A': {'id': 'A', 'values': [1.0, 1.0, 1.0]},\n",
       "             'B': {'id': 'B', 'values': [2.0, 2.0, 2.0]},\n",
       "             'C': {'id': 'C', 'values': [3.0, 3.0, 3.0]}}}"
      ]
     },
     "execution_count": 13,
     "metadata": {},
     "output_type": "execute_result"
    }
   ],
   "source": [
    "fetch_results = index.fetch(ids  = [\"A\", \"B\",\"C\"])\n",
    "fetch_results"
   ]
  },
  {
   "cell_type": "markdown",
   "metadata": {},
   "source": [
    "### Updating Vectors by ID"
   ]
  },
  {
   "cell_type": "code",
   "execution_count": 14,
   "metadata": {},
   "outputs": [
    {
     "data": {
      "text/plain": [
       "{'upserted_count': 1}"
      ]
     },
     "execution_count": 14,
     "metadata": {},
     "output_type": "execute_result"
    }
   ],
   "source": [
    "index.upsert(vectors = [(\"A\", [0.1,0.1,0.1])])"
   ]
  },
  {
   "cell_type": "code",
   "execution_count": 15,
   "metadata": {},
   "outputs": [
    {
     "data": {
      "text/plain": [
       "{'namespace': '',\n",
       " 'usage': {'read_units': 1},\n",
       " 'vectors': {'A': {'id': 'A', 'values': [0.1, 0.1, 0.1]}}}"
      ]
     },
     "execution_count": 15,
     "metadata": {},
     "output_type": "execute_result"
    }
   ],
   "source": [
    "fetch_result = index.fetch(ids=[\"A\"])\n",
    "fetch_result"
   ]
  },
  {
   "cell_type": "markdown",
   "metadata": {},
   "source": [
    "### Describing Index stats"
   ]
  },
  {
   "cell_type": "code",
   "execution_count": 16,
   "metadata": {},
   "outputs": [
    {
     "data": {
      "text/plain": [
       "{'dimension': 3,\n",
       " 'index_fullness': 0.0,\n",
       " 'namespaces': {},\n",
       " 'total_vector_count': 0}"
      ]
     },
     "execution_count": 16,
     "metadata": {},
     "output_type": "execute_result"
    }
   ],
   "source": [
    "index.describe_index_stats()"
   ]
  },
  {
   "cell_type": "code",
   "execution_count": 17,
   "metadata": {},
   "outputs": [],
   "source": [
    "pc.delete_index(index_name)"
   ]
  },
  {
   "cell_type": "markdown",
   "metadata": {},
   "source": [
    "# ***Metadata filtering***\n",
    "\n",
    "Can filter vectors based on its metadata. Can add metadata to the embeddings within Pinecone.\n",
    "\n",
    "The metadata filtering accepts arbitrary filters on metadata, and it retrieves exactly the number of nearest-neighbor results that match the filters. For most cases, the search latency will be even lower than unfiltered searches."
   ]
  },
  {
   "cell_type": "markdown",
   "metadata": {},
   "source": [
    "In the following code, each of the vector has a metadata for the vectors as `category` or `published`"
   ]
  },
  {
   "cell_type": "code",
   "execution_count": 18,
   "metadata": {},
   "outputs": [
    {
     "data": {
      "text/html": [
       "<div>\n",
       "<style scoped>\n",
       "    .dataframe tbody tr th:only-of-type {\n",
       "        vertical-align: middle;\n",
       "    }\n",
       "\n",
       "    .dataframe tbody tr th {\n",
       "        vertical-align: top;\n",
       "    }\n",
       "\n",
       "    .dataframe thead th {\n",
       "        text-align: right;\n",
       "    }\n",
       "</style>\n",
       "<table border=\"1\" class=\"dataframe\">\n",
       "  <thead>\n",
       "    <tr style=\"text-align: right;\">\n",
       "      <th></th>\n",
       "      <th>id</th>\n",
       "      <th>vector</th>\n",
       "      <th>metadata</th>\n",
       "    </tr>\n",
       "  </thead>\n",
       "  <tbody>\n",
       "    <tr>\n",
       "      <th>0</th>\n",
       "      <td>F-1</td>\n",
       "      <td>[1.0, 1.0, 1.0]</td>\n",
       "      <td>{'category': 'finance', 'published': 2015}</td>\n",
       "    </tr>\n",
       "    <tr>\n",
       "      <th>1</th>\n",
       "      <td>F-2</td>\n",
       "      <td>[2.0, 2.0, 2.0]</td>\n",
       "      <td>{'category': 'finance', 'published': 2016}</td>\n",
       "    </tr>\n",
       "    <tr>\n",
       "      <th>2</th>\n",
       "      <td>S-1</td>\n",
       "      <td>[3.0, 3.0, 3.0]</td>\n",
       "      <td>{'category': 'sport', 'published': 2017}</td>\n",
       "    </tr>\n",
       "    <tr>\n",
       "      <th>3</th>\n",
       "      <td>S-2</td>\n",
       "      <td>[4.0, 4.0, 4.0]</td>\n",
       "      <td>{'category': 'sport', 'published': 2018}</td>\n",
       "    </tr>\n",
       "  </tbody>\n",
       "</table>\n",
       "</div>"
      ],
      "text/plain": [
       "    id           vector                                    metadata\n",
       "0  F-1  [1.0, 1.0, 1.0]  {'category': 'finance', 'published': 2015}\n",
       "1  F-2  [2.0, 2.0, 2.0]  {'category': 'finance', 'published': 2016}\n",
       "2  S-1  [3.0, 3.0, 3.0]    {'category': 'sport', 'published': 2017}\n",
       "3  S-2  [4.0, 4.0, 4.0]    {'category': 'sport', 'published': 2018}"
      ]
     },
     "execution_count": 18,
     "metadata": {},
     "output_type": "execute_result"
    }
   ],
   "source": [
    "create_index(index_name)\n",
    "index = pc.Index(index_name)\n",
    "\n",
    "df = pd.DataFrame()\n",
    "df[\"id\"] = [\"F-1\", \"F-2\", \"S-1\", \"S-2\"]\n",
    "df[\"vector\"] = [[1., 1.,1.], [2., 2., 2.], [3., 3., 3.], [4., 4., 4.]]\n",
    "df[\"metadata\"] = [\n",
    "    {\"category\": \"finance\", \"published\": 2015},\n",
    "    {\"category\": \"finance\", \"published\": 2016},\n",
    "    {\"category\": \"sport\", \"published\": 2017},\n",
    "    {\"category\": \"sport\", \"published\": 2018}]\n",
    "df"
   ]
  },
  {
   "cell_type": "code",
   "execution_count": 19,
   "metadata": {},
   "outputs": [
    {
     "data": {
      "text/plain": [
       "{'namespace': '',\n",
       " 'usage': {'read_units': 1},\n",
       " 'vectors': {'F-1': {'id': 'F-1',\n",
       "                     'metadata': {'category': 'finance', 'published': 2015.0},\n",
       "                     'values': [1.0, 1.0, 1.0]}}}"
      ]
     },
     "execution_count": 19,
     "metadata": {},
     "output_type": "execute_result"
    }
   ],
   "source": [
    "# Insert vectors without specifying a namespace\n",
    "index.upsert(vectors=zip(df.id, df.vector, df.metadata))\n",
    "index.describe_index_stats()\n",
    "\n",
    "# fetch the vectors\n",
    "index.fetch(ids=[\"F-1\"])"
   ]
  },
  {
   "cell_type": "markdown",
   "metadata": {},
   "source": [
    "## Query top-3 vectors\n",
    "\n",
    "Query top-3 with and without filtering. We are going to filter for both the `category` and the `published` value."
   ]
  },
  {
   "cell_type": "code",
   "execution_count": 20,
   "metadata": {},
   "outputs": [
    {
     "data": {
      "text/plain": [
       "{'matches': [], 'namespace': '', 'usage': {'read_units': 5}}"
      ]
     },
     "execution_count": 20,
     "metadata": {},
     "output_type": "execute_result"
    }
   ],
   "source": [
    "query_results = index.query(vector=df[df.id == \"F-1\"].vector[0], top_k=3)\n",
    "query_results"
   ]
  },
  {
   "cell_type": "code",
   "execution_count": 21,
   "metadata": {},
   "outputs": [
    {
     "data": {
      "text/plain": [
       "{'matches': [], 'namespace': '', 'usage': {'read_units': 5}}"
      ]
     },
     "execution_count": 21,
     "metadata": {},
     "output_type": "execute_result"
    }
   ],
   "source": [
    "filter_condition = {\n",
    "    \"category\" : {\"$eq\": \"finance\"},\n",
    "    \"published\": {\"$gt\": 2015 }\n",
    "}\n",
    "query_results = index.query(vector=\n",
    "    df[df.id == \"F-1\"].vector[0], top_k=3, filter=filter_condition\n",
    ")\n",
    "query_results"
   ]
  },
  {
   "cell_type": "code",
   "execution_count": 22,
   "metadata": {},
   "outputs": [],
   "source": [
    "pc.delete_index(index_name)"
   ]
  },
  {
   "cell_type": "markdown",
   "metadata": {},
   "source": [
    "# ***Namespacing with Pinecone***\n",
    "\n",
    "Allows us to partition our data in an index. \n",
    "\n",
    "Reading and writing to a namespace allows us to only access the data in the namespace. Namespace is useful when we want o reuse the same data processing pipeline but query only a subset of our data."
   ]
  },
  {
   "cell_type": "code",
   "execution_count": 23,
   "metadata": {},
   "outputs": [
    {
     "data": {
      "text/html": [
       "<div>\n",
       "<style scoped>\n",
       "    .dataframe tbody tr th:only-of-type {\n",
       "        vertical-align: middle;\n",
       "    }\n",
       "\n",
       "    .dataframe tbody tr th {\n",
       "        vertical-align: top;\n",
       "    }\n",
       "\n",
       "    .dataframe thead th {\n",
       "        text-align: right;\n",
       "    }\n",
       "</style>\n",
       "<table border=\"1\" class=\"dataframe\">\n",
       "  <thead>\n",
       "    <tr style=\"text-align: right;\">\n",
       "      <th></th>\n",
       "      <th>id</th>\n",
       "      <th>vector</th>\n",
       "    </tr>\n",
       "  </thead>\n",
       "  <tbody>\n",
       "    <tr>\n",
       "      <th>0</th>\n",
       "      <td>Wall-E</td>\n",
       "      <td>[1.0, 1.0, 1.0]</td>\n",
       "    </tr>\n",
       "    <tr>\n",
       "      <th>1</th>\n",
       "      <td>Up</td>\n",
       "      <td>[2.0, 2.0, 2.0]</td>\n",
       "    </tr>\n",
       "    <tr>\n",
       "      <th>2</th>\n",
       "      <td>Ratatouille</td>\n",
       "      <td>[3.0, 3.0, 3.0]</td>\n",
       "    </tr>\n",
       "    <tr>\n",
       "      <th>3</th>\n",
       "      <td>Toy Story</td>\n",
       "      <td>[4.0, 4.0, 4.0]</td>\n",
       "    </tr>\n",
       "    <tr>\n",
       "      <th>4</th>\n",
       "      <td>Star wars</td>\n",
       "      <td>[5.0, 5.0, 5.0]</td>\n",
       "    </tr>\n",
       "  </tbody>\n",
       "</table>\n",
       "</div>"
      ],
      "text/plain": [
       "            id           vector\n",
       "0       Wall-E  [1.0, 1.0, 1.0]\n",
       "1           Up  [2.0, 2.0, 2.0]\n",
       "2  Ratatouille  [3.0, 3.0, 3.0]\n",
       "3    Toy Story  [4.0, 4.0, 4.0]\n",
       "4    Star wars  [5.0, 5.0, 5.0]"
      ]
     },
     "execution_count": 23,
     "metadata": {},
     "output_type": "execute_result"
    }
   ],
   "source": [
    "create_index(index_name)\n",
    "index = pc.Index(index_name)\n",
    "\n",
    "df = pd.DataFrame()\n",
    "df[\"id\"] = [\"Wall-E\", \"Up\", \"Ratatouille\", \"Toy Story\", \"Star wars\"]\n",
    "df[\"vector\"] = [[1., 1.,1.], [2., 2.,2.], [3., 3.,3.], [4., 4.,4.], [5., 5.,5.]]\n",
    "df"
   ]
  },
  {
   "cell_type": "code",
   "execution_count": 24,
   "metadata": {},
   "outputs": [
    {
     "data": {
      "text/plain": [
       "{'dimension': 3,\n",
       " 'index_fullness': 0.0,\n",
       " 'namespaces': {},\n",
       " 'total_vector_count': 0}"
      ]
     },
     "execution_count": 24,
     "metadata": {},
     "output_type": "execute_result"
    }
   ],
   "source": [
    "index.upsert(vectors=zip(df.id, df.vector))\n",
    "index.describe_index_stats()"
   ]
  },
  {
   "cell_type": "markdown",
   "metadata": {},
   "source": [
    "## Inserting vectors into a namespace"
   ]
  },
  {
   "cell_type": "code",
   "execution_count": 25,
   "metadata": {},
   "outputs": [
    {
     "data": {
      "text/html": [
       "<div>\n",
       "<style scoped>\n",
       "    .dataframe tbody tr th:only-of-type {\n",
       "        vertical-align: middle;\n",
       "    }\n",
       "\n",
       "    .dataframe tbody tr th {\n",
       "        vertical-align: top;\n",
       "    }\n",
       "\n",
       "    .dataframe thead th {\n",
       "        text-align: right;\n",
       "    }\n",
       "</style>\n",
       "<table border=\"1\" class=\"dataframe\">\n",
       "  <thead>\n",
       "    <tr style=\"text-align: right;\">\n",
       "      <th></th>\n",
       "      <th>id</th>\n",
       "      <th>vector</th>\n",
       "    </tr>\n",
       "  </thead>\n",
       "  <tbody>\n",
       "    <tr>\n",
       "      <th>0</th>\n",
       "      <td>Wall-E</td>\n",
       "      <td>[1.0, 1.0, 1.0]</td>\n",
       "    </tr>\n",
       "    <tr>\n",
       "      <th>2</th>\n",
       "      <td>Ratatouille</td>\n",
       "      <td>[3.0, 3.0, 3.0]</td>\n",
       "    </tr>\n",
       "  </tbody>\n",
       "</table>\n",
       "</div>"
      ],
      "text/plain": [
       "            id           vector\n",
       "0       Wall-E  [1.0, 1.0, 1.0]\n",
       "2  Ratatouille  [3.0, 3.0, 3.0]"
      ]
     },
     "execution_count": 25,
     "metadata": {},
     "output_type": "execute_result"
    }
   ],
   "source": [
    "romcom = [\"Wall-E\", \"Ratatouille\"]\n",
    "romcom_df = df[df.id.isin(romcom)]\n",
    "romcom_df"
   ]
  },
  {
   "cell_type": "code",
   "execution_count": 26,
   "metadata": {},
   "outputs": [
    {
     "data": {
      "text/plain": [
       "{'dimension': 3,\n",
       " 'index_fullness': 0.0,\n",
       " 'namespaces': {},\n",
       " 'total_vector_count': 0}"
      ]
     },
     "execution_count": 26,
     "metadata": {},
     "output_type": "execute_result"
    }
   ],
   "source": [
    "index.upsert(vectors=zip(romcom_df.id, romcom_df.vector), namespace=\"romcom\")\n",
    "index.describe_index_stats()"
   ]
  },
  {
   "cell_type": "markdown",
   "metadata": {},
   "source": [
    "## Query results with a namespace\n",
    "\n",
    "Only the vectors within the namespace will show up"
   ]
  },
  {
   "cell_type": "code",
   "execution_count": 27,
   "metadata": {},
   "outputs": [
    {
     "data": {
      "text/plain": [
       "{'matches': [], 'namespace': 'romcom', 'usage': {'read_units': 5}}"
      ]
     },
     "execution_count": 27,
     "metadata": {},
     "output_type": "execute_result"
    }
   ],
   "source": [
    "query_results = index.query(vector = df[df.id == \"Wall-E\"].vector[0], top_k = 3, namespace = \"romcom\")\n",
    "\n",
    "query_results"
   ]
  },
  {
   "cell_type": "code",
   "execution_count": 12,
   "metadata": {},
   "outputs": [],
   "source": [
    "pc.delete_index(index_name)"
   ]
  },
  {
   "cell_type": "markdown",
   "metadata": {},
   "source": [
    "# ***Simple Classifier with Pinecone***\n",
    "\n",
    "Creating vector-based ML applications using Pinecone's simple workflow:\n",
    "1. Create a Pinecone Index. Once it is created, we can have a production ready vector DB service.\n",
    "2. Connect to the index. Start inserting vectors and getting query results."
   ]
  },
  {
   "cell_type": "code",
   "execution_count": 8,
   "metadata": {},
   "outputs": [],
   "source": [
    "random_state = 42\n",
    "np.random.seed(random_state)\n",
    "\n",
    "sample_size = 1000\n",
    "dim = 3\n",
    "A_mean = 0.\n",
    "B_mean = 2.\n",
    "\n",
    "A_vectors = A_mean + np.random.randn(sample_size, dim) # centre it around mean\n",
    "B_vectors = B_mean + np.random.randn(sample_size, dim) # centre it around mean\n",
    "\n",
    "\n",
    "query_size = 20\n",
    "A_queries = A_mean +np.random.randn(query_size, dim)"
   ]
  },
  {
   "cell_type": "markdown",
   "metadata": {},
   "source": [
    "Compare the first 2 dimensions of the multivariate normals in a scatterplot"
   ]
  },
  {
   "cell_type": "code",
   "execution_count": 9,
   "metadata": {},
   "outputs": [
    {
     "data": {
      "text/html": [
       "<div>\n",
       "<style scoped>\n",
       "    .dataframe tbody tr th:only-of-type {\n",
       "        vertical-align: middle;\n",
       "    }\n",
       "\n",
       "    .dataframe tbody tr th {\n",
       "        vertical-align: top;\n",
       "    }\n",
       "\n",
       "    .dataframe thead th {\n",
       "        text-align: right;\n",
       "    }\n",
       "</style>\n",
       "<table border=\"1\" class=\"dataframe\">\n",
       "  <thead>\n",
       "    <tr style=\"text-align: right;\">\n",
       "      <th></th>\n",
       "      <th>D1</th>\n",
       "      <th>D2</th>\n",
       "      <th>cluster</th>\n",
       "    </tr>\n",
       "  </thead>\n",
       "  <tbody>\n",
       "    <tr>\n",
       "      <th>0</th>\n",
       "      <td>0.496714</td>\n",
       "      <td>-0.138264</td>\n",
       "      <td>A</td>\n",
       "    </tr>\n",
       "    <tr>\n",
       "      <th>1</th>\n",
       "      <td>1.523030</td>\n",
       "      <td>-0.234153</td>\n",
       "      <td>A</td>\n",
       "    </tr>\n",
       "    <tr>\n",
       "      <th>2</th>\n",
       "      <td>1.579213</td>\n",
       "      <td>0.767435</td>\n",
       "      <td>A</td>\n",
       "    </tr>\n",
       "    <tr>\n",
       "      <th>3</th>\n",
       "      <td>0.542560</td>\n",
       "      <td>-0.463418</td>\n",
       "      <td>A</td>\n",
       "    </tr>\n",
       "    <tr>\n",
       "      <th>4</th>\n",
       "      <td>0.241962</td>\n",
       "      <td>-1.913280</td>\n",
       "      <td>A</td>\n",
       "    </tr>\n",
       "    <tr>\n",
       "      <th>...</th>\n",
       "      <td>...</td>\n",
       "      <td>...</td>\n",
       "      <td>...</td>\n",
       "    </tr>\n",
       "    <tr>\n",
       "      <th>15</th>\n",
       "      <td>-0.416438</td>\n",
       "      <td>0.001977</td>\n",
       "      <td>Queries</td>\n",
       "    </tr>\n",
       "    <tr>\n",
       "      <th>16</th>\n",
       "      <td>-1.345014</td>\n",
       "      <td>-0.861050</td>\n",
       "      <td>Queries</td>\n",
       "    </tr>\n",
       "    <tr>\n",
       "      <th>17</th>\n",
       "      <td>1.020037</td>\n",
       "      <td>-0.363132</td>\n",
       "      <td>Queries</td>\n",
       "    </tr>\n",
       "    <tr>\n",
       "      <th>18</th>\n",
       "      <td>0.341216</td>\n",
       "      <td>1.500275</td>\n",
       "      <td>Queries</td>\n",
       "    </tr>\n",
       "    <tr>\n",
       "      <th>19</th>\n",
       "      <td>1.025632</td>\n",
       "      <td>2.642012</td>\n",
       "      <td>Queries</td>\n",
       "    </tr>\n",
       "  </tbody>\n",
       "</table>\n",
       "<p>2020 rows × 3 columns</p>\n",
       "</div>"
      ],
      "text/plain": [
       "          D1        D2  cluster\n",
       "0   0.496714 -0.138264        A\n",
       "1   1.523030 -0.234153        A\n",
       "2   1.579213  0.767435        A\n",
       "3   0.542560 -0.463418        A\n",
       "4   0.241962 -1.913280        A\n",
       "..       ...       ...      ...\n",
       "15 -0.416438  0.001977  Queries\n",
       "16 -1.345014 -0.861050  Queries\n",
       "17  1.020037 -0.363132  Queries\n",
       "18  0.341216  1.500275  Queries\n",
       "19  1.025632  2.642012  Queries\n",
       "\n",
       "[2020 rows x 3 columns]"
      ]
     },
     "execution_count": 9,
     "metadata": {},
     "output_type": "execute_result"
    }
   ],
   "source": [
    "# define nice colours:\n",
    "pink = (206 / 255, 0 / 255, 65 / 255)\n",
    "blue = (0 / 255, 0 / 255, 163 / 255)\n",
    "green = (24 / 255, 187 / 255, 169 / 255)\n",
    "\n",
    "plot_df = pd.concat(\n",
    "    [\n",
    "       pd.DataFrame(dict(D1=A_vectors[:, 0], D2=A_vectors[:, 1], cluster=\"A\")),\n",
    "        pd.DataFrame(dict(D1=B_vectors[:, 0], D2=B_vectors[:, 1], cluster=\"B\")),\n",
    "        pd.DataFrame(dict(D1=A_queries[:, 0], D2=A_queries[:, 1], cluster=\"Queries\")), \n",
    "    ]\n",
    ")\n",
    "plot_df"
   ]
  },
  {
   "cell_type": "code",
   "execution_count": 10,
   "metadata": {
    "tags": []
   },
   "outputs": [
    {
     "name": "stderr",
     "output_type": "stream",
     "text": [
      "C:\\Users\\pushy\\anaconda3\\Lib\\site-packages\\seaborn\\_oldcore.py:1498: FutureWarning: is_categorical_dtype is deprecated and will be removed in a future version. Use isinstance(dtype, CategoricalDtype) instead\n",
      "  if pd.api.types.is_categorical_dtype(vector):\n",
      "C:\\Users\\pushy\\anaconda3\\Lib\\site-packages\\seaborn\\_oldcore.py:1498: FutureWarning: is_categorical_dtype is deprecated and will be removed in a future version. Use isinstance(dtype, CategoricalDtype) instead\n",
      "  if pd.api.types.is_categorical_dtype(vector):\n",
      "C:\\Users\\pushy\\anaconda3\\Lib\\site-packages\\seaborn\\_oldcore.py:1498: FutureWarning: is_categorical_dtype is deprecated and will be removed in a future version. Use isinstance(dtype, CategoricalDtype) instead\n",
      "  if pd.api.types.is_categorical_dtype(vector):\n",
      "C:\\Users\\pushy\\anaconda3\\Lib\\site-packages\\seaborn\\_oldcore.py:1498: FutureWarning: is_categorical_dtype is deprecated and will be removed in a future version. Use isinstance(dtype, CategoricalDtype) instead\n",
      "  if pd.api.types.is_categorical_dtype(vector):\n",
      "C:\\Users\\pushy\\anaconda3\\Lib\\site-packages\\seaborn\\_oldcore.py:1498: FutureWarning: is_categorical_dtype is deprecated and will be removed in a future version. Use isinstance(dtype, CategoricalDtype) instead\n",
      "  if pd.api.types.is_categorical_dtype(vector):\n"
     ]
    },
    {
     "data": {
      "image/png": "[encoded data removed]",
      "text/plain": [
       "<Figure size 800x400 with 1 Axes>"
      ]
     },
     "metadata": {},
     "output_type": "display_data"
    }
   ],
   "source": [
    "# render as static images inline with the code output\n",
    "%matplotlib inline\n",
    "\n",
    "fig, ax = plt.subplots(figsize=(8, 4))\n",
    "ax.tick_params(labelsize=10)\n",
    "ax.xaxis.label.set_size(12)\n",
    "ax.yaxis.label.set_size(12)\n",
    "sns.scatterplot(\n",
    "    data=plot_df,\n",
    "    x=\"D1\",\n",
    "    y=\"D2\",\n",
    "    hue=\"cluster\",\n",
    "    palette=[green, pink, blue],\n",
    "    s=10,\n",
    "    ax=ax,\n",
    ")\n",
    "ax.legend(\n",
    "    title=\"cluster\", loc=\"upper left\", borderpad=0.2, fancybox=False, framealpha=0.5\n",
    ")\n",
    "plt.tight_layout()\n",
    "plt.box(on=None)\n",
    "plt.show()"
   ]
  },
  {
   "cell_type": "markdown",
   "metadata": {
    "tags": []
   },
   "source": [
    "## Building a classifier using Pinecone \n",
    "\n",
    "We will use euclidean distance to measure similarity in this example. "
   ]
  },
  {
   "cell_type": "code",
   "execution_count": 13,
   "metadata": {
    "tags": []
   },
   "outputs": [],
   "source": [
    "index_name = \"simple-knn-classifier\"\n",
    "\n",
    "create_index(index_name)\n",
    "index = pc.Index(index_name)"
   ]
  },
  {
   "cell_type": "code",
   "execution_count": 15,
   "metadata": {
    "tags": []
   },
   "outputs": [
    {
     "data": {
      "text/html": [
       "<div>\n",
       "<style scoped>\n",
       "    .dataframe tbody tr th:only-of-type {\n",
       "        vertical-align: middle;\n",
       "    }\n",
       "\n",
       "    .dataframe tbody tr th {\n",
       "        vertical-align: top;\n",
       "    }\n",
       "\n",
       "    .dataframe thead th {\n",
       "        text-align: right;\n",
       "    }\n",
       "</style>\n",
       "<table border=\"1\" class=\"dataframe\">\n",
       "  <thead>\n",
       "    <tr style=\"text-align: right;\">\n",
       "      <th></th>\n",
       "      <th>id</th>\n",
       "      <th>vector</th>\n",
       "    </tr>\n",
       "  </thead>\n",
       "  <tbody>\n",
       "    <tr>\n",
       "      <th>271</th>\n",
       "      <td>A-271</td>\n",
       "      <td>[0.19655477651157463, 1.0318445394686349, -1.4...</td>\n",
       "    </tr>\n",
       "    <tr>\n",
       "      <th>836</th>\n",
       "      <td>A-836</td>\n",
       "      <td>[-1.3510743662080213, -1.3224579567435701, 0.4...</td>\n",
       "    </tr>\n",
       "    <tr>\n",
       "      <th>1588</th>\n",
       "      <td>B-588</td>\n",
       "      <td>[1.0055714782002076, 2.249548189598077, 0.8169...</td>\n",
       "    </tr>\n",
       "    <tr>\n",
       "      <th>391</th>\n",
       "      <td>A-391</td>\n",
       "      <td>[-0.06259312789952241, -0.7539645888666763, -0...</td>\n",
       "    </tr>\n",
       "    <tr>\n",
       "      <th>1991</th>\n",
       "      <td>B-991</td>\n",
       "      <td>[-0.15373057379146138, 2.446981717009852, 1.36...</td>\n",
       "    </tr>\n",
       "  </tbody>\n",
       "</table>\n",
       "</div>"
      ],
      "text/plain": [
       "         id                                             vector\n",
       "271   A-271  [0.19655477651157463, 1.0318445394686349, -1.4...\n",
       "836   A-836  [-1.3510743662080213, -1.3224579567435701, 0.4...\n",
       "1588  B-588  [1.0055714782002076, 2.249548189598077, 0.8169...\n",
       "391   A-391  [-0.06259312789952241, -0.7539645888666763, -0...\n",
       "1991  B-991  [-0.15373057379146138, 2.446981717009852, 1.36..."
      ]
     },
     "execution_count": 15,
     "metadata": {},
     "output_type": "execute_result"
    }
   ],
   "source": [
    "items_df = pd.DataFrame()\n",
    "items_df[\"id\"] = [f\"A-{ii}\" for ii in range(len(A_vectors))] + [\n",
    "    f\"B-{ii}\" for ii in range(len(B_vectors))\n",
    "]\n",
    "items_df[\"vector\"] = [*A_vectors.tolist(), *B_vectors.tolist()]\n",
    "items_df.sample(5)"
   ]
  },
  {
   "cell_type": "code",
   "execution_count": 19,
   "metadata": {
    "tags": []
   },
   "outputs": [
    {
     "data": {
      "text/plain": [
       "(2000, 2)"
      ]
     },
     "execution_count": 19,
     "metadata": {},
     "output_type": "execute_result"
    }
   ],
   "source": [
    "items_df.shape"
   ]
  },
  {
   "cell_type": "code",
   "execution_count": 17,
   "metadata": {
    "tags": []
   },
   "outputs": [],
   "source": [
    "def chunks(iterable, batch_size = 100):\n",
    "    it = iter(iterable)\n",
    "    # break it into a chunk w batch size sample\n",
    "    chunk = tuple(itertools.islice(it, batch_size))\n",
    "    # repeat the process until chunk disappears\n",
    "    while chunk:\n",
    "        # suspend the function and return the value then continue\n",
    "        yield chunk\n",
    "        chunk = tuple(itertools.islice(it, batch_size))\n",
    "        \n",
    "\n",
    "# get the row iterations and create chunks inserted into the index\n",
    "for vectors in chunks(((row.id, row.vector) for _, row in items_df.iterrows())):\n",
    "    index.upsert(vectors = vectors)"
   ]
  },
  {
   "cell_type": "code",
   "execution_count": 18,
   "metadata": {
    "tags": []
   },
   "outputs": [
    {
     "data": {
      "text/plain": [
       "{'dimension': 3,\n",
       " 'index_fullness': 0.02,\n",
       " 'namespaces': {'': {'vector_count': 2000}},\n",
       " 'total_vector_count': 2000}"
      ]
     },
     "execution_count": 18,
     "metadata": {},
     "output_type": "execute_result"
    }
   ],
   "source": [
    "# index indo\n",
    "index.describe_index_stats()"
   ]
  },
  {
   "cell_type": "code",
   "execution_count": 37,
   "metadata": {
    "tags": []
   },
   "outputs": [
    {
     "name": "stdout",
     "output_type": "stream",
     "text": [
      " 'Count nearest neighbours' class labels: A = 10 B = 0\n",
      " 'Count nearest neighbours' class labels: A = 10 B = 0\n",
      " 'Count nearest neighbours' class labels: A = 10 B = 0\n",
      " 'Count nearest neighbours' class labels: A = 10 B = 0\n",
      " 'Count nearest neighbours' class labels: A = 0 B = 10\n",
      " 'Count nearest neighbours' class labels: A = 10 B = 0\n",
      " 'Count nearest neighbours' class labels: A = 6 B = 4\n",
      " 'Count nearest neighbours' class labels: A = 8 B = 2\n",
      " 'Count nearest neighbours' class labels: A = 10 B = 0\n",
      " 'Count nearest neighbours' class labels: A = 10 B = 0\n",
      " 'Count nearest neighbours' class labels: A = 10 B = 0\n",
      " 'Count nearest neighbours' class labels: A = 10 B = 0\n",
      " 'Count nearest neighbours' class labels: A = 10 B = 0\n",
      " 'Count nearest neighbours' class labels: A = 1 B = 9\n",
      " 'Count nearest neighbours' class labels: A = 9 B = 1\n",
      " 'Count nearest neighbours' class labels: A = 10 B = 0\n",
      " 'Count nearest neighbours' class labels: A = 10 B = 0\n",
      " 'Count nearest neighbours' class labels: A = 8 B = 2\n",
      " 'Count nearest neighbours' class labels: A = 8 B = 2\n",
      " 'Count nearest neighbours' class labels: A = 1 B = 9\n"
     ]
    }
   ],
   "source": [
    "for query_vec in A_queries.tolist():\n",
    "    results = index.query(vector = query_vec, top_k = 10)\n",
    "    cc = Counter(match.id.split(\"-\")[0] for match in results.matches)\n",
    "    print(f\" 'Count nearest neighbours' class labels: A = {cc['A']} B = {cc['B']}\")"
   ]
  },
  {
   "cell_type": "markdown",
   "metadata": {},
   "source": [
    "We can classify each of the query based on the mode of the points above for a `simple-knn` classification"
   ]
  },
  {
   "cell_type": "code",
   "execution_count": 38,
   "metadata": {
    "tags": []
   },
   "outputs": [],
   "source": [
    "pc.delete_index(index_name)"
   ]
  }
 ],
 "metadata": {
  "kernelspec": {
   "display_name": "Python 3 (ipykernel)",
   "language": "python",
   "name": "python3"
  },
  "language_info": {
   "codemirror_mode": {
    "name": "ipython",
    "version": 3
   },
   "file_extension": ".py",
   "mimetype": "text/x-python",
   "name": "python",
   "nbconvert_exporter": "python",
   "pygments_lexer": "ipython3",
   "version": "3.12.2"
  }
 },
 "nbformat": 4,
 "nbformat_minor": 4
}
