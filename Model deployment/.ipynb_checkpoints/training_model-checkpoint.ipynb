{
 "cells": [
  {
   "cell_type": "markdown",
   "id": "9af60bd8-7354-4eec-a383-471386e057ef",
   "metadata": {},
   "source": [
    "# **Libraries**"
   ]
  },
  {
   "cell_type": "code",
   "execution_count": 1,
   "id": "ba02d59b-9924-4d3e-a5f7-9b2e637eb59c",
   "metadata": {},
   "outputs": [],
   "source": [
    "#!pip install pyodbc\n",
    "#!pip install datasist"
   ]
  },
  {
   "cell_type": "code",
   "execution_count": 2,
   "id": "5b78a27e-e3ad-4ea5-b35a-6c4fe78387a0",
   "metadata": {
    "tags": []
   },
   "outputs": [],
   "source": [
    "# Importing librarires\n",
    "import pandas as pd\n",
    "import numpy as np\n",
    "from matplotlib import pyplot as plt\n",
    "import seaborn as sns\n",
    "import pyodbc\n",
    "import datasist as ds\n",
    "from datetime import datetime as dt\n",
    "import pickle\n",
    "# Sklearn specific import\n",
    "from sklearn.model_selection import train_test_split\n",
    "from sklearn.ensemble import RandomForestRegressor\n",
    "from sklearn import metrics"
   ]
  },
  {
   "cell_type": "markdown",
   "id": "9af81f6c-5504-44e5-a37e-cc33568f8ffb",
   "metadata": {},
   "source": [
    "# **Goal**\n",
    "\n",
    "The main goal of this project is to create relatively well enough regression model for prediciting the selling price of the car, this model will then be deployed using different API libraries."
   ]
  },
  {
   "cell_type": "markdown",
   "id": "8f2715ce-33c5-480c-9e98-1ed052662e71",
   "metadata": {
    "tags": []
   },
   "source": [
    "# **Getting Data**"
   ]
  },
  {
   "cell_type": "markdown",
   "id": "6ffbf0d3-6d78-46f7-9c87-11a08e76e356",
   "metadata": {},
   "source": [
    "## Creating Connection to SQLDB\n",
    "\n",
    "Creating connection my SQL server to access car pricing data"
   ]
  },
  {
   "cell_type": "code",
   "execution_count": 3,
   "id": "b99d2911-b457-4bb4-8869-25322a82d3a7",
   "metadata": {
    "tags": []
   },
   "outputs": [],
   "source": [
    "# Trusted Connection because no windows authentication on my own SQL Server\n",
    "conn = pyodbc.connect(r'Driver={SQL Server};Server=SERVER\\SQLEXPRESS;Database=localdb;Trusted_Connection=yes;')\n",
    "# start the connection\n",
    "cursor = conn.cursor()"
   ]
  },
  {
   "cell_type": "markdown",
   "id": "0c20e0b5-1f4f-473c-9c4c-9ade8b62634c",
   "metadata": {},
   "source": [
    "## Reading Data from the Database\n",
    "Reading from the SQL DB and storing at a `pd.DataFrame` to work with "
   ]
  },
  {
   "cell_type": "code",
   "execution_count": 4,
   "id": "01c4c278-b8d9-4348-9e22-e0a05d374362",
   "metadata": {
    "tags": []
   },
   "outputs": [
    {
     "name": "stderr",
     "output_type": "stream",
     "text": [
      "C:\\Users\\pushy\\AppData\\Local\\Temp\\ipykernel_2968\\3588295050.py:2: UserWarning: pandas only supports SQLAlchemy connectable (engine/connection) or database string URI or sqlite3 DBAPI2 connection. Other DBAPI2 objects are not tested. Please consider using SQLAlchemy.\n",
      "  data = pd.read_sql_query(\n"
     ]
    },
    {
     "data": {
      "text/html": [
       "<div>\n",
       "<style scoped>\n",
       "    .dataframe tbody tr th:only-of-type {\n",
       "        vertical-align: middle;\n",
       "    }\n",
       "\n",
       "    .dataframe tbody tr th {\n",
       "        vertical-align: top;\n",
       "    }\n",
       "\n",
       "    .dataframe thead th {\n",
       "        text-align: right;\n",
       "    }\n",
       "</style>\n",
       "<table border=\"1\" class=\"dataframe\">\n",
       "  <thead>\n",
       "    <tr style=\"text-align: right;\">\n",
       "      <th></th>\n",
       "      <th>Car_Name</th>\n",
       "      <th>Year</th>\n",
       "      <th>Present_Price</th>\n",
       "      <th>Kms_Driven</th>\n",
       "      <th>Fuel_Type</th>\n",
       "      <th>Seller_Type</th>\n",
       "      <th>Transmission</th>\n",
       "      <th>Owner</th>\n",
       "      <th>Selling_Price</th>\n",
       "    </tr>\n",
       "  </thead>\n",
       "  <tbody>\n",
       "    <tr>\n",
       "      <th>0</th>\n",
       "      <td>Hero Passion X pro</td>\n",
       "      <td>2016.0</td>\n",
       "      <td>12417.55</td>\n",
       "      <td>33217.0</td>\n",
       "      <td>Petrol</td>\n",
       "      <td>Individual</td>\n",
       "      <td>Manual</td>\n",
       "      <td>0.0</td>\n",
       "      <td>11717.50</td>\n",
       "    </tr>\n",
       "    <tr>\n",
       "      <th>1</th>\n",
       "      <td>xcent</td>\n",
       "      <td>2017.0</td>\n",
       "      <td>10633.13</td>\n",
       "      <td>12905.0</td>\n",
       "      <td>Petrol</td>\n",
       "      <td>Dealer</td>\n",
       "      <td>Manual</td>\n",
       "      <td>0.0</td>\n",
       "      <td>9931.75</td>\n",
       "    </tr>\n",
       "    <tr>\n",
       "      <th>2</th>\n",
       "      <td>verna</td>\n",
       "      <td>2015.0</td>\n",
       "      <td>10881.40</td>\n",
       "      <td>62053.0</td>\n",
       "      <td>Diesel</td>\n",
       "      <td>Dealer</td>\n",
       "      <td>Manual</td>\n",
       "      <td>0.0</td>\n",
       "      <td>10180.25</td>\n",
       "    </tr>\n",
       "    <tr>\n",
       "      <th>3</th>\n",
       "      <td>ertiga</td>\n",
       "      <td>2016.0</td>\n",
       "      <td>11107.79</td>\n",
       "      <td>43897.0</td>\n",
       "      <td>Diesel</td>\n",
       "      <td>Dealer</td>\n",
       "      <td>Manual</td>\n",
       "      <td>0.0</td>\n",
       "      <td>10404.75</td>\n",
       "    </tr>\n",
       "    <tr>\n",
       "      <th>4</th>\n",
       "      <td>jazz</td>\n",
       "      <td>2016.0</td>\n",
       "      <td>10316.40</td>\n",
       "      <td>4108.0</td>\n",
       "      <td>Petrol</td>\n",
       "      <td>Dealer</td>\n",
       "      <td>Manual</td>\n",
       "      <td>0.0</td>\n",
       "      <td>9614.00</td>\n",
       "    </tr>\n",
       "  </tbody>\n",
       "</table>\n",
       "</div>"
      ],
      "text/plain": [
       "             Car_Name    Year  Present_Price  Kms_Driven Fuel_Type  \\\n",
       "0  Hero Passion X pro  2016.0       12417.55     33217.0    Petrol   \n",
       "1               xcent  2017.0       10633.13     12905.0    Petrol   \n",
       "2               verna  2015.0       10881.40     62053.0    Diesel   \n",
       "3              ertiga  2016.0       11107.79     43897.0    Diesel   \n",
       "4                jazz  2016.0       10316.40      4108.0    Petrol   \n",
       "\n",
       "  Seller_Type Transmission  Owner  Selling_Price  \n",
       "0  Individual       Manual    0.0       11717.50  \n",
       "1      Dealer       Manual    0.0        9931.75  \n",
       "2      Dealer       Manual    0.0       10180.25  \n",
       "3      Dealer       Manual    0.0       10404.75  \n",
       "4      Dealer       Manual    0.0        9614.00  "
      ]
     },
     "execution_count": 4,
     "metadata": {},
     "output_type": "execute_result"
    }
   ],
   "source": [
    "# Getting the data\n",
    "data = pd.read_sql_query(\n",
    "    '''SELECT * \n",
    "    FROM kaggle.carpricing''',\n",
    "    conn\n",
    ")\n",
    "\n",
    "# Converting it to a dataframe\n",
    "data_df = pd.DataFrame(data)\n",
    "data_df.head()"
   ]
  },
  {
   "cell_type": "markdown",
   "id": "30b3c9e7-1c35-402f-a238-4dcfea0cb9c1",
   "metadata": {},
   "source": [
    "# **Exploratory Data Analysis (EDA)**"
   ]
  },
  {
   "cell_type": "markdown",
   "id": "67d05976-0576-4d59-9f09-c222efbf4c81",
   "metadata": {},
   "source": [
    "## Using Datasist Library\n",
    "\n",
    "`Datasist` is a python package for fast, quick and abstracted interface to frequently used functions for data analysis, visualisations, exploration, feature engineering, NLP, Deep Learning, model deployment etc.\n",
    "\n",
    "First I will be creating summary tables for the data"
   ]
  },
  {
   "cell_type": "code",
   "execution_count": 5,
   "id": "80c6edb8-739d-43d7-88e1-64dfee12a3c2",
   "metadata": {
    "tags": []
   },
   "outputs": [
    {
     "name": "stdout",
     "output_type": "stream",
     "text": [
      "First five data points\n"
     ]
    },
    {
     "data": {
      "text/html": [
       "<div>\n",
       "<style scoped>\n",
       "    .dataframe tbody tr th:only-of-type {\n",
       "        vertical-align: middle;\n",
       "    }\n",
       "\n",
       "    .dataframe tbody tr th {\n",
       "        vertical-align: top;\n",
       "    }\n",
       "\n",
       "    .dataframe thead th {\n",
       "        text-align: right;\n",
       "    }\n",
       "</style>\n",
       "<table border=\"1\" class=\"dataframe\">\n",
       "  <thead>\n",
       "    <tr style=\"text-align: right;\">\n",
       "      <th></th>\n",
       "      <th>Car_Name</th>\n",
       "      <th>Year</th>\n",
       "      <th>Present_Price</th>\n",
       "      <th>Kms_Driven</th>\n",
       "      <th>Fuel_Type</th>\n",
       "      <th>Seller_Type</th>\n",
       "      <th>Transmission</th>\n",
       "      <th>Owner</th>\n",
       "      <th>Selling_Price</th>\n",
       "    </tr>\n",
       "  </thead>\n",
       "  <tbody>\n",
       "    <tr>\n",
       "      <th>0</th>\n",
       "      <td>Hero Passion X pro</td>\n",
       "      <td>2016.0</td>\n",
       "      <td>12417.55</td>\n",
       "      <td>33217.0</td>\n",
       "      <td>Petrol</td>\n",
       "      <td>Individual</td>\n",
       "      <td>Manual</td>\n",
       "      <td>0.0</td>\n",
       "      <td>11717.50</td>\n",
       "    </tr>\n",
       "    <tr>\n",
       "      <th>1</th>\n",
       "      <td>xcent</td>\n",
       "      <td>2017.0</td>\n",
       "      <td>10633.13</td>\n",
       "      <td>12905.0</td>\n",
       "      <td>Petrol</td>\n",
       "      <td>Dealer</td>\n",
       "      <td>Manual</td>\n",
       "      <td>0.0</td>\n",
       "      <td>9931.75</td>\n",
       "    </tr>\n",
       "    <tr>\n",
       "      <th>2</th>\n",
       "      <td>verna</td>\n",
       "      <td>2015.0</td>\n",
       "      <td>10881.40</td>\n",
       "      <td>62053.0</td>\n",
       "      <td>Diesel</td>\n",
       "      <td>Dealer</td>\n",
       "      <td>Manual</td>\n",
       "      <td>0.0</td>\n",
       "      <td>10180.25</td>\n",
       "    </tr>\n",
       "    <tr>\n",
       "      <th>3</th>\n",
       "      <td>ertiga</td>\n",
       "      <td>2016.0</td>\n",
       "      <td>11107.79</td>\n",
       "      <td>43897.0</td>\n",
       "      <td>Diesel</td>\n",
       "      <td>Dealer</td>\n",
       "      <td>Manual</td>\n",
       "      <td>0.0</td>\n",
       "      <td>10404.75</td>\n",
       "    </tr>\n",
       "    <tr>\n",
       "      <th>4</th>\n",
       "      <td>jazz</td>\n",
       "      <td>2016.0</td>\n",
       "      <td>10316.40</td>\n",
       "      <td>4108.0</td>\n",
       "      <td>Petrol</td>\n",
       "      <td>Dealer</td>\n",
       "      <td>Manual</td>\n",
       "      <td>0.0</td>\n",
       "      <td>9614.00</td>\n",
       "    </tr>\n",
       "  </tbody>\n",
       "</table>\n",
       "</div>"
      ],
      "text/plain": [
       "             Car_Name    Year  Present_Price  Kms_Driven Fuel_Type  \\\n",
       "0  Hero Passion X pro  2016.0       12417.55     33217.0    Petrol   \n",
       "1               xcent  2017.0       10633.13     12905.0    Petrol   \n",
       "2               verna  2015.0       10881.40     62053.0    Diesel   \n",
       "3              ertiga  2016.0       11107.79     43897.0    Diesel   \n",
       "4                jazz  2016.0       10316.40      4108.0    Petrol   \n",
       "\n",
       "  Seller_Type Transmission  Owner  Selling_Price  \n",
       "0  Individual       Manual    0.0       11717.50  \n",
       "1      Dealer       Manual    0.0        9931.75  \n",
       "2      Dealer       Manual    0.0       10180.25  \n",
       "3      Dealer       Manual    0.0       10404.75  \n",
       "4      Dealer       Manual    0.0        9614.00  "
      ]
     },
     "metadata": {},
     "output_type": "display_data"
    },
    {
     "name": "stdout",
     "output_type": "stream",
     "text": [
      "\n",
      "\n",
      "Random five data points\n"
     ]
    },
    {
     "data": {
      "text/html": [
       "<div>\n",
       "<style scoped>\n",
       "    .dataframe tbody tr th:only-of-type {\n",
       "        vertical-align: middle;\n",
       "    }\n",
       "\n",
       "    .dataframe tbody tr th {\n",
       "        vertical-align: top;\n",
       "    }\n",
       "\n",
       "    .dataframe thead th {\n",
       "        text-align: right;\n",
       "    }\n",
       "</style>\n",
       "<table border=\"1\" class=\"dataframe\">\n",
       "  <thead>\n",
       "    <tr style=\"text-align: right;\">\n",
       "      <th></th>\n",
       "      <th>Car_Name</th>\n",
       "      <th>Year</th>\n",
       "      <th>Present_Price</th>\n",
       "      <th>Kms_Driven</th>\n",
       "      <th>Fuel_Type</th>\n",
       "      <th>Seller_Type</th>\n",
       "      <th>Transmission</th>\n",
       "      <th>Owner</th>\n",
       "      <th>Selling_Price</th>\n",
       "    </tr>\n",
       "  </thead>\n",
       "  <tbody>\n",
       "    <tr>\n",
       "      <th>32095</th>\n",
       "      <td>i10</td>\n",
       "      <td>2011.0</td>\n",
       "      <td>8807.43</td>\n",
       "      <td>57603.0</td>\n",
       "      <td>Petrol</td>\n",
       "      <td>Dealer</td>\n",
       "      <td>Manual</td>\n",
       "      <td>0.0</td>\n",
       "      <td>8105.55</td>\n",
       "    </tr>\n",
       "    <tr>\n",
       "      <th>37770</th>\n",
       "      <td>Bajaj Avenger 150 street</td>\n",
       "      <td>2016.0</td>\n",
       "      <td>10872.80</td>\n",
       "      <td>20672.0</td>\n",
       "      <td>Petrol</td>\n",
       "      <td>Individual</td>\n",
       "      <td>Manual</td>\n",
       "      <td>0.0</td>\n",
       "      <td>10172.60</td>\n",
       "    </tr>\n",
       "    <tr>\n",
       "      <th>65971</th>\n",
       "      <td>city</td>\n",
       "      <td>2015.0</td>\n",
       "      <td>10472.60</td>\n",
       "      <td>25259.0</td>\n",
       "      <td>Petrol</td>\n",
       "      <td>Dealer</td>\n",
       "      <td>Manual</td>\n",
       "      <td>0.0</td>\n",
       "      <td>9767.40</td>\n",
       "    </tr>\n",
       "    <tr>\n",
       "      <th>78566</th>\n",
       "      <td>Bajaj Pulsar 135 LS</td>\n",
       "      <td>2014.0</td>\n",
       "      <td>9911.64</td>\n",
       "      <td>15411.0</td>\n",
       "      <td>Petrol</td>\n",
       "      <td>Individual</td>\n",
       "      <td>Manual</td>\n",
       "      <td>0.0</td>\n",
       "      <td>9211.40</td>\n",
       "    </tr>\n",
       "    <tr>\n",
       "      <th>21436</th>\n",
       "      <td>Bajaj Pulsar NS 200</td>\n",
       "      <td>2013.0</td>\n",
       "      <td>8416.99</td>\n",
       "      <td>45216.0</td>\n",
       "      <td>Petrol</td>\n",
       "      <td>Individual</td>\n",
       "      <td>Manual</td>\n",
       "      <td>0.0</td>\n",
       "      <td>7716.50</td>\n",
       "    </tr>\n",
       "  </tbody>\n",
       "</table>\n",
       "</div>"
      ],
      "text/plain": [
       "                       Car_Name    Year  Present_Price  Kms_Driven Fuel_Type  \\\n",
       "32095                       i10  2011.0        8807.43     57603.0    Petrol   \n",
       "37770  Bajaj Avenger 150 street  2016.0       10872.80     20672.0    Petrol   \n",
       "65971                      city  2015.0       10472.60     25259.0    Petrol   \n",
       "78566       Bajaj Pulsar 135 LS  2014.0        9911.64     15411.0    Petrol   \n",
       "21436       Bajaj Pulsar NS 200  2013.0        8416.99     45216.0    Petrol   \n",
       "\n",
       "      Seller_Type Transmission  Owner  Selling_Price  \n",
       "32095      Dealer       Manual    0.0        8105.55  \n",
       "37770  Individual       Manual    0.0       10172.60  \n",
       "65971      Dealer       Manual    0.0        9767.40  \n",
       "78566  Individual       Manual    0.0        9211.40  \n",
       "21436  Individual       Manual    0.0        7716.50  "
      ]
     },
     "metadata": {},
     "output_type": "display_data"
    },
    {
     "name": "stdout",
     "output_type": "stream",
     "text": [
      "\n",
      "\n",
      "Last five data points\n"
     ]
    },
    {
     "data": {
      "text/html": [
       "<div>\n",
       "<style scoped>\n",
       "    .dataframe tbody tr th:only-of-type {\n",
       "        vertical-align: middle;\n",
       "    }\n",
       "\n",
       "    .dataframe tbody tr th {\n",
       "        vertical-align: top;\n",
       "    }\n",
       "\n",
       "    .dataframe thead th {\n",
       "        text-align: right;\n",
       "    }\n",
       "</style>\n",
       "<table border=\"1\" class=\"dataframe\">\n",
       "  <thead>\n",
       "    <tr style=\"text-align: right;\">\n",
       "      <th></th>\n",
       "      <th>Car_Name</th>\n",
       "      <th>Year</th>\n",
       "      <th>Present_Price</th>\n",
       "      <th>Kms_Driven</th>\n",
       "      <th>Fuel_Type</th>\n",
       "      <th>Seller_Type</th>\n",
       "      <th>Transmission</th>\n",
       "      <th>Owner</th>\n",
       "      <th>Selling_Price</th>\n",
       "    </tr>\n",
       "  </thead>\n",
       "  <tbody>\n",
       "    <tr>\n",
       "      <th>99995</th>\n",
       "      <td>eon</td>\n",
       "      <td>2016.0</td>\n",
       "      <td>11959.43</td>\n",
       "      <td>14255.0</td>\n",
       "      <td>Petrol</td>\n",
       "      <td>Dealer</td>\n",
       "      <td>Manual</td>\n",
       "      <td>0.0</td>\n",
       "      <td>11257.90</td>\n",
       "    </tr>\n",
       "    <tr>\n",
       "      <th>99996</th>\n",
       "      <td>innova</td>\n",
       "      <td>2017.0</td>\n",
       "      <td>11263.77</td>\n",
       "      <td>16044.0</td>\n",
       "      <td>Diesel</td>\n",
       "      <td>Dealer</td>\n",
       "      <td>Automatic</td>\n",
       "      <td>0.0</td>\n",
       "      <td>10562.00</td>\n",
       "    </tr>\n",
       "    <tr>\n",
       "      <th>99997</th>\n",
       "      <td>Royal Enfield Classic 500</td>\n",
       "      <td>2012.0</td>\n",
       "      <td>9567.75</td>\n",
       "      <td>12866.0</td>\n",
       "      <td>Petrol</td>\n",
       "      <td>Individual</td>\n",
       "      <td>Manual</td>\n",
       "      <td>0.0</td>\n",
       "      <td>8866.95</td>\n",
       "    </tr>\n",
       "    <tr>\n",
       "      <th>99998</th>\n",
       "      <td>city</td>\n",
       "      <td>2016.0</td>\n",
       "      <td>11092.60</td>\n",
       "      <td>11859.0</td>\n",
       "      <td>Petrol</td>\n",
       "      <td>Dealer</td>\n",
       "      <td>Manual</td>\n",
       "      <td>0.0</td>\n",
       "      <td>10389.11</td>\n",
       "    </tr>\n",
       "    <tr>\n",
       "      <th>99999</th>\n",
       "      <td>Hero Passion Pro</td>\n",
       "      <td>2016.0</td>\n",
       "      <td>10983.55</td>\n",
       "      <td>1783.0</td>\n",
       "      <td>Petrol</td>\n",
       "      <td>Individual</td>\n",
       "      <td>Manual</td>\n",
       "      <td>0.0</td>\n",
       "      <td>10283.45</td>\n",
       "    </tr>\n",
       "  </tbody>\n",
       "</table>\n",
       "</div>"
      ],
      "text/plain": [
       "                        Car_Name    Year  Present_Price  Kms_Driven Fuel_Type  \\\n",
       "99995                        eon  2016.0       11959.43     14255.0    Petrol   \n",
       "99996                     innova  2017.0       11263.77     16044.0    Diesel   \n",
       "99997  Royal Enfield Classic 500  2012.0        9567.75     12866.0    Petrol   \n",
       "99998                       city  2016.0       11092.60     11859.0    Petrol   \n",
       "99999           Hero Passion Pro  2016.0       10983.55      1783.0    Petrol   \n",
       "\n",
       "      Seller_Type Transmission  Owner  Selling_Price  \n",
       "99995      Dealer       Manual    0.0       11257.90  \n",
       "99996      Dealer    Automatic    0.0       10562.00  \n",
       "99997  Individual       Manual    0.0        8866.95  \n",
       "99998      Dealer       Manual    0.0       10389.11  \n",
       "99999  Individual       Manual    0.0       10283.45  "
      ]
     },
     "metadata": {},
     "output_type": "display_data"
    },
    {
     "name": "stdout",
     "output_type": "stream",
     "text": [
      "\n",
      "\n",
      "Shape of  data set: (100000, 9)\n",
      "\n",
      "\n",
      "Size of  data set: 900000\n",
      "\n",
      "\n",
      "Data Types\n",
      "Note: All Non-numerical features are identified as objects in pandas\n"
     ]
    },
    {
     "data": {
      "text/html": [
       "<div>\n",
       "<style scoped>\n",
       "    .dataframe tbody tr th:only-of-type {\n",
       "        vertical-align: middle;\n",
       "    }\n",
       "\n",
       "    .dataframe tbody tr th {\n",
       "        vertical-align: top;\n",
       "    }\n",
       "\n",
       "    .dataframe thead th {\n",
       "        text-align: right;\n",
       "    }\n",
       "</style>\n",
       "<table border=\"1\" class=\"dataframe\">\n",
       "  <thead>\n",
       "    <tr style=\"text-align: right;\">\n",
       "      <th></th>\n",
       "      <th>Data Type</th>\n",
       "    </tr>\n",
       "  </thead>\n",
       "  <tbody>\n",
       "    <tr>\n",
       "      <th>Car_Name</th>\n",
       "      <td>object</td>\n",
       "    </tr>\n",
       "    <tr>\n",
       "      <th>Year</th>\n",
       "      <td>float64</td>\n",
       "    </tr>\n",
       "    <tr>\n",
       "      <th>Present_Price</th>\n",
       "      <td>float64</td>\n",
       "    </tr>\n",
       "    <tr>\n",
       "      <th>Kms_Driven</th>\n",
       "      <td>float64</td>\n",
       "    </tr>\n",
       "    <tr>\n",
       "      <th>Fuel_Type</th>\n",
       "      <td>object</td>\n",
       "    </tr>\n",
       "    <tr>\n",
       "      <th>Seller_Type</th>\n",
       "      <td>object</td>\n",
       "    </tr>\n",
       "    <tr>\n",
       "      <th>Transmission</th>\n",
       "      <td>object</td>\n",
       "    </tr>\n",
       "    <tr>\n",
       "      <th>Owner</th>\n",
       "      <td>float64</td>\n",
       "    </tr>\n",
       "    <tr>\n",
       "      <th>Selling_Price</th>\n",
       "      <td>float64</td>\n",
       "    </tr>\n",
       "  </tbody>\n",
       "</table>\n",
       "</div>"
      ],
      "text/plain": [
       "              Data Type\n",
       "Car_Name         object\n",
       "Year            float64\n",
       "Present_Price   float64\n",
       "Kms_Driven      float64\n",
       "Fuel_Type        object\n",
       "Seller_Type      object\n",
       "Transmission     object\n",
       "Owner           float64\n",
       "Selling_Price   float64"
      ]
     },
     "metadata": {},
     "output_type": "display_data"
    },
    {
     "name": "stdout",
     "output_type": "stream",
     "text": [
      "\n",
      "\n",
      "Numerical Features in Data set\n",
      "['Year', 'Present_Price', 'Kms_Driven', 'Owner', 'Selling_Price']\n",
      "\n",
      "\n",
      "Categorical Features in Data set\n"
     ]
    },
    {
     "data": {
      "text/plain": [
       "['Car_Name', 'Fuel_Type', 'Seller_Type', 'Transmission']"
      ]
     },
     "metadata": {},
     "output_type": "display_data"
    },
    {
     "name": "stdout",
     "output_type": "stream",
     "text": [
      "\n",
      "\n",
      "Statistical Description of Columns\n"
     ]
    },
    {
     "data": {
      "text/html": [
       "<div>\n",
       "<style scoped>\n",
       "    .dataframe tbody tr th:only-of-type {\n",
       "        vertical-align: middle;\n",
       "    }\n",
       "\n",
       "    .dataframe tbody tr th {\n",
       "        vertical-align: top;\n",
       "    }\n",
       "\n",
       "    .dataframe thead th {\n",
       "        text-align: right;\n",
       "    }\n",
       "</style>\n",
       "<table border=\"1\" class=\"dataframe\">\n",
       "  <thead>\n",
       "    <tr style=\"text-align: right;\">\n",
       "      <th></th>\n",
       "      <th>Year</th>\n",
       "      <th>Present_Price</th>\n",
       "      <th>Kms_Driven</th>\n",
       "      <th>Owner</th>\n",
       "      <th>Selling_Price</th>\n",
       "    </tr>\n",
       "  </thead>\n",
       "  <tbody>\n",
       "    <tr>\n",
       "      <th>count</th>\n",
       "      <td>100000.000000</td>\n",
       "      <td>100000.000000</td>\n",
       "      <td>100000.000000</td>\n",
       "      <td>100000.000000</td>\n",
       "      <td>100000.000000</td>\n",
       "    </tr>\n",
       "    <tr>\n",
       "      <th>mean</th>\n",
       "      <td>2014.059300</td>\n",
       "      <td>10454.815579</td>\n",
       "      <td>35544.731010</td>\n",
       "      <td>0.036080</td>\n",
       "      <td>9752.087633</td>\n",
       "    </tr>\n",
       "    <tr>\n",
       "      <th>std</th>\n",
       "      <td>2.592811</td>\n",
       "      <td>1497.176036</td>\n",
       "      <td>35908.164469</td>\n",
       "      <td>0.213913</td>\n",
       "      <td>1498.468367</td>\n",
       "    </tr>\n",
       "    <tr>\n",
       "      <th>min</th>\n",
       "      <td>2003.000000</td>\n",
       "      <td>3405.280000</td>\n",
       "      <td>606.000000</td>\n",
       "      <td>0.000000</td>\n",
       "      <td>2703.350000</td>\n",
       "    </tr>\n",
       "    <tr>\n",
       "      <th>25%</th>\n",
       "      <td>2013.000000</td>\n",
       "      <td>9406.007500</td>\n",
       "      <td>15760.000000</td>\n",
       "      <td>0.000000</td>\n",
       "      <td>8703.250000</td>\n",
       "    </tr>\n",
       "    <tr>\n",
       "      <th>50%</th>\n",
       "      <td>2015.000000</td>\n",
       "      <td>10628.705000</td>\n",
       "      <td>30595.500000</td>\n",
       "      <td>0.000000</td>\n",
       "      <td>9926.700000</td>\n",
       "    </tr>\n",
       "    <tr>\n",
       "      <th>75%</th>\n",
       "      <td>2016.000000</td>\n",
       "      <td>11639.782500</td>\n",
       "      <td>46476.000000</td>\n",
       "      <td>0.000000</td>\n",
       "      <td>10938.120000</td>\n",
       "    </tr>\n",
       "    <tr>\n",
       "      <th>max</th>\n",
       "      <td>2018.000000</td>\n",
       "      <td>12731.230000</td>\n",
       "      <td>502479.000000</td>\n",
       "      <td>3.000000</td>\n",
       "      <td>12028.000000</td>\n",
       "    </tr>\n",
       "  </tbody>\n",
       "</table>\n",
       "</div>"
      ],
      "text/plain": [
       "                Year  Present_Price     Kms_Driven          Owner  \\\n",
       "count  100000.000000  100000.000000  100000.000000  100000.000000   \n",
       "mean     2014.059300   10454.815579   35544.731010       0.036080   \n",
       "std         2.592811    1497.176036   35908.164469       0.213913   \n",
       "min      2003.000000    3405.280000     606.000000       0.000000   \n",
       "25%      2013.000000    9406.007500   15760.000000       0.000000   \n",
       "50%      2015.000000   10628.705000   30595.500000       0.000000   \n",
       "75%      2016.000000   11639.782500   46476.000000       0.000000   \n",
       "max      2018.000000   12731.230000  502479.000000       3.000000   \n",
       "\n",
       "       Selling_Price  \n",
       "count  100000.000000  \n",
       "mean     9752.087633  \n",
       "std      1498.468367  \n",
       "min      2703.350000  \n",
       "25%      8703.250000  \n",
       "50%      9926.700000  \n",
       "75%     10938.120000  \n",
       "max     12028.000000  "
      ]
     },
     "metadata": {},
     "output_type": "display_data"
    },
    {
     "name": "stdout",
     "output_type": "stream",
     "text": [
      "\n",
      "\n",
      "Description of Categorical Features\n"
     ]
    },
    {
     "name": "stderr",
     "output_type": "stream",
     "text": [
      "C:\\Users\\pushy\\anaconda3\\Lib\\site-packages\\datasist\\structdata.py:99: FutureWarning: In the future `np.object` will be defined as the corresponding NumPy scalar.\n",
      "  display(data.describe(include=[np.object, pd.Categorical]).T)\n",
      "C:\\Users\\pushy\\anaconda3\\Lib\\site-packages\\datasist\\structdata.py:81: SyntaxWarning: \"is not\" with a literal. Did you mean \"!=\"?\n",
      "  if len(date_cols) is not 0:\n",
      "C:\\Users\\pushy\\anaconda3\\Lib\\site-packages\\datasist\\structdata.py:81: SyntaxWarning: \"is not\" with a literal. Did you mean \"!=\"?\n",
      "  if len(date_cols) is not 0:\n",
      "C:\\Users\\pushy\\anaconda3\\Lib\\site-packages\\datasist\\structdata.py:81: SyntaxWarning: \"is not\" with a literal. Did you mean \"!=\"?\n",
      "  if len(date_cols) is not 0:\n",
      "C:\\Users\\pushy\\anaconda3\\Lib\\site-packages\\datasist\\structdata.py:81: SyntaxWarning: \"is not\" with a literal. Did you mean \"!=\"?\n",
      "  if len(date_cols) is not 0:\n"
     ]
    },
    {
     "ename": "AttributeError",
     "evalue": "module 'numpy' has no attribute 'object'.\n`np.object` was a deprecated alias for the builtin `object`. To avoid this error in existing code, use `object` by itself. Doing this will not modify any behavior and is safe. \nThe aliases was originally deprecated in NumPy 1.20; for more details and guidance see the original release note at:\n    https://numpy.org/devdocs/release/1.20.0-notes.html#deprecations",
     "output_type": "error",
     "traceback": [
      "\u001b[1;31m---------------------------------------------------------------------------\u001b[0m",
      "\u001b[1;31mAttributeError\u001b[0m                            Traceback (most recent call last)",
      "Cell \u001b[1;32mIn[5], line 1\u001b[0m\n\u001b[1;32m----> 1\u001b[0m ds\u001b[38;5;241m.\u001b[39mstructdata\u001b[38;5;241m.\u001b[39mdescribe(data_df)\n",
      "File \u001b[1;32m~\\anaconda3\\Lib\\site-packages\\datasist\\structdata.py:99\u001b[0m, in \u001b[0;36mdescribe\u001b[1;34m(data, name, date_cols, show_categories, plot_missing)\u001b[0m\n\u001b[0;32m     97\u001b[0m \u001b[38;5;28mprint\u001b[39m(\u001b[38;5;124m'\u001b[39m\u001b[38;5;124mDescription of Categorical Features\u001b[39m\u001b[38;5;124m'\u001b[39m)\n\u001b[0;32m     98\u001b[0m \u001b[38;5;28;01mif\u001b[39;00m cat_features \u001b[38;5;241m!=\u001b[39m \u001b[38;5;28;01mNone\u001b[39;00m:\n\u001b[1;32m---> 99\u001b[0m     display(data\u001b[38;5;241m.\u001b[39mdescribe(include\u001b[38;5;241m=\u001b[39m[np\u001b[38;5;241m.\u001b[39mobject, pd\u001b[38;5;241m.\u001b[39mCategorical])\u001b[38;5;241m.\u001b[39mT)\n\u001b[0;32m    100\u001b[0m     _space()\n\u001b[0;32m    102\u001b[0m \u001b[38;5;28mprint\u001b[39m(\u001b[38;5;124m'\u001b[39m\u001b[38;5;124mUnique class Count of Categorical features\u001b[39m\u001b[38;5;124m'\u001b[39m)\n",
      "File \u001b[1;32m~\\anaconda3\\Lib\\site-packages\\numpy\\__init__.py:305\u001b[0m, in \u001b[0;36m__getattr__\u001b[1;34m(attr)\u001b[0m\n\u001b[0;32m    300\u001b[0m     warnings\u001b[38;5;241m.\u001b[39mwarn(\n\u001b[0;32m    301\u001b[0m         \u001b[38;5;124mf\u001b[39m\u001b[38;5;124m\"\u001b[39m\u001b[38;5;124mIn the future `np.\u001b[39m\u001b[38;5;132;01m{\u001b[39;00mattr\u001b[38;5;132;01m}\u001b[39;00m\u001b[38;5;124m` will be defined as the \u001b[39m\u001b[38;5;124m\"\u001b[39m\n\u001b[0;32m    302\u001b[0m         \u001b[38;5;124m\"\u001b[39m\u001b[38;5;124mcorresponding NumPy scalar.\u001b[39m\u001b[38;5;124m\"\u001b[39m, \u001b[38;5;167;01mFutureWarning\u001b[39;00m, stacklevel\u001b[38;5;241m=\u001b[39m\u001b[38;5;241m2\u001b[39m)\n\u001b[0;32m    304\u001b[0m \u001b[38;5;28;01mif\u001b[39;00m attr \u001b[38;5;129;01min\u001b[39;00m __former_attrs__:\n\u001b[1;32m--> 305\u001b[0m     \u001b[38;5;28;01mraise\u001b[39;00m \u001b[38;5;167;01mAttributeError\u001b[39;00m(__former_attrs__[attr])\n\u001b[0;32m    307\u001b[0m \u001b[38;5;66;03m# Importing Tester requires importing all of UnitTest which is not a\u001b[39;00m\n\u001b[0;32m    308\u001b[0m \u001b[38;5;66;03m# cheap import Since it is mainly used in test suits, we lazy import it\u001b[39;00m\n\u001b[0;32m    309\u001b[0m \u001b[38;5;66;03m# here to save on the order of 10 ms of import time for most users\u001b[39;00m\n\u001b[0;32m    310\u001b[0m \u001b[38;5;66;03m#\u001b[39;00m\n\u001b[0;32m    311\u001b[0m \u001b[38;5;66;03m# The previous way Tester was imported also had a side effect of adding\u001b[39;00m\n\u001b[0;32m    312\u001b[0m \u001b[38;5;66;03m# the full `numpy.testing` namespace\u001b[39;00m\n\u001b[0;32m    313\u001b[0m \u001b[38;5;28;01mif\u001b[39;00m attr \u001b[38;5;241m==\u001b[39m \u001b[38;5;124m'\u001b[39m\u001b[38;5;124mtesting\u001b[39m\u001b[38;5;124m'\u001b[39m:\n",
      "\u001b[1;31mAttributeError\u001b[0m: module 'numpy' has no attribute 'object'.\n`np.object` was a deprecated alias for the builtin `object`. To avoid this error in existing code, use `object` by itself. Doing this will not modify any behavior and is safe. \nThe aliases was originally deprecated in NumPy 1.20; for more details and guidance see the original release note at:\n    https://numpy.org/devdocs/release/1.20.0-notes.html#deprecations"
     ]
    }
   ],
   "source": [
    "ds.structdata.describe(data_df)"
   ]
  },
  {
   "cell_type": "markdown",
   "id": "4f51426c-807d-40bd-8709-a5e5336e106c",
   "metadata": {},
   "source": [
    "This shows the metadata of the input data including:\n",
    "- first, randoma and last 5 vectors\n",
    "- data types for each predictor\n",
    "- summary statistics of the predictors in the dataframe \n",
    "\n",
    "> Note: reminds me of the `summary()` in `R`"
   ]
  },
  {
   "cell_type": "markdown",
   "id": "40c8ffa3-3ceb-46de-b5c1-3eee7cfcee0b",
   "metadata": {},
   "source": [
    "We can also create visualisations for the predictors such as the bar charts for different categorical variables or creating such bar charts with its own clustering (shown in the latter set of visualisations)."
   ]
  },
  {
   "cell_type": "code",
   "execution_count": 6,
   "id": "9d1823c6-4f8d-4875-af35-07f946e75956",
   "metadata": {
    "tags": []
   },
   "outputs": [
    {
     "name": "stdout",
     "output_type": "stream",
     "text": [
      "Unique Values in Car_Name is too large to plot\n",
      "\n",
      "\n"
     ]
    },
    {
     "name": "stderr",
     "output_type": "stream",
     "text": [
      "C:\\Users\\pushy\\anaconda3\\Lib\\site-packages\\seaborn\\_oldcore.py:1498: FutureWarning: is_categorical_dtype is deprecated and will be removed in a future version. Use isinstance(dtype, CategoricalDtype) instead\n",
      "  if pd.api.types.is_categorical_dtype(vector):\n",
      "C:\\Users\\pushy\\anaconda3\\Lib\\site-packages\\seaborn\\_oldcore.py:1498: FutureWarning: is_categorical_dtype is deprecated and will be removed in a future version. Use isinstance(dtype, CategoricalDtype) instead\n",
      "  if pd.api.types.is_categorical_dtype(vector):\n",
      "C:\\Users\\pushy\\anaconda3\\Lib\\site-packages\\seaborn\\_oldcore.py:1498: FutureWarning: is_categorical_dtype is deprecated and will be removed in a future version. Use isinstance(dtype, CategoricalDtype) instead\n",
      "  if pd.api.types.is_categorical_dtype(vector):\n",
      "C:\\Users\\pushy\\anaconda3\\Lib\\site-packages\\seaborn\\_oldcore.py:1498: FutureWarning: is_categorical_dtype is deprecated and will be removed in a future version. Use isinstance(dtype, CategoricalDtype) instead\n",
      "  if pd.api.types.is_categorical_dtype(vector):\n",
      "C:\\Users\\pushy\\anaconda3\\Lib\\site-packages\\seaborn\\_oldcore.py:1498: FutureWarning: is_categorical_dtype is deprecated and will be removed in a future version. Use isinstance(dtype, CategoricalDtype) instead\n",
      "  if pd.api.types.is_categorical_dtype(vector):\n",
      "C:\\Users\\pushy\\anaconda3\\Lib\\site-packages\\seaborn\\_oldcore.py:1498: FutureWarning: is_categorical_dtype is deprecated and will be removed in a future version. Use isinstance(dtype, CategoricalDtype) instead\n",
      "  if pd.api.types.is_categorical_dtype(vector):\n",
      "C:\\Users\\pushy\\anaconda3\\Lib\\site-packages\\seaborn\\_oldcore.py:1498: FutureWarning: is_categorical_dtype is deprecated and will be removed in a future version. Use isinstance(dtype, CategoricalDtype) instead\n",
      "  if pd.api.types.is_categorical_dtype(vector):\n",
      "C:\\Users\\pushy\\anaconda3\\Lib\\site-packages\\seaborn\\_oldcore.py:1498: FutureWarning: is_categorical_dtype is deprecated and will be removed in a future version. Use isinstance(dtype, CategoricalDtype) instead\n",
      "  if pd.api.types.is_categorical_dtype(vector):\n",
      "C:\\Users\\pushy\\anaconda3\\Lib\\site-packages\\seaborn\\_oldcore.py:1498: FutureWarning: is_categorical_dtype is deprecated and will be removed in a future version. Use isinstance(dtype, CategoricalDtype) instead\n",
      "  if pd.api.types.is_categorical_dtype(vector):\n"
     ]
    },
    {
     "data": {
      "image/png": "[encoded data removed]",
      "text/plain": [
       "<Figure size 500x500 with 1 Axes>"
      ]
     },
     "metadata": {},
     "output_type": "display_data"
    },
    {
     "data": {
      "image/png": "[encoded data removed]",
      "text/plain": [
       "<Figure size 500x500 with 1 Axes>"
      ]
     },
     "metadata": {},
     "output_type": "display_data"
    },
    {
     "data": {
      "image/png": "[encoded data removed]",
      "text/plain": [
       "<Figure size 500x500 with 1 Axes>"
      ]
     },
     "metadata": {},
     "output_type": "display_data"
    }
   ],
   "source": [
    "ds.visualizations.countplot(data_df)"
   ]
  },
  {
   "cell_type": "code",
   "execution_count": 7,
   "id": "739ec629-f3fc-4dee-9427-9ea338b2243c",
   "metadata": {
    "tags": []
   },
   "outputs": [
    {
     "name": "stdout",
     "output_type": "stream",
     "text": [
      "Unique Values in Car_Name is too large to plot\n",
      "\n",
      "\n"
     ]
    },
    {
     "name": "stderr",
     "output_type": "stream",
     "text": [
      "C:\\Users\\pushy\\anaconda3\\Lib\\site-packages\\seaborn\\_oldcore.py:1498: FutureWarning: is_categorical_dtype is deprecated and will be removed in a future version. Use isinstance(dtype, CategoricalDtype) instead\n",
      "  if pd.api.types.is_categorical_dtype(vector):\n",
      "C:\\Users\\pushy\\anaconda3\\Lib\\site-packages\\seaborn\\_oldcore.py:1498: FutureWarning: is_categorical_dtype is deprecated and will be removed in a future version. Use isinstance(dtype, CategoricalDtype) instead\n",
      "  if pd.api.types.is_categorical_dtype(vector):\n",
      "C:\\Users\\pushy\\anaconda3\\Lib\\site-packages\\seaborn\\_oldcore.py:1498: FutureWarning: is_categorical_dtype is deprecated and will be removed in a future version. Use isinstance(dtype, CategoricalDtype) instead\n",
      "  if pd.api.types.is_categorical_dtype(vector):\n",
      "C:\\Users\\pushy\\anaconda3\\Lib\\site-packages\\seaborn\\_oldcore.py:1498: FutureWarning: is_categorical_dtype is deprecated and will be removed in a future version. Use isinstance(dtype, CategoricalDtype) instead\n",
      "  if pd.api.types.is_categorical_dtype(vector):\n",
      "C:\\Users\\pushy\\anaconda3\\Lib\\site-packages\\seaborn\\_oldcore.py:1498: FutureWarning: is_categorical_dtype is deprecated and will be removed in a future version. Use isinstance(dtype, CategoricalDtype) instead\n",
      "  if pd.api.types.is_categorical_dtype(vector):\n",
      "C:\\Users\\pushy\\anaconda3\\Lib\\site-packages\\seaborn\\_oldcore.py:1498: FutureWarning: is_categorical_dtype is deprecated and will be removed in a future version. Use isinstance(dtype, CategoricalDtype) instead\n",
      "  if pd.api.types.is_categorical_dtype(vector):\n",
      "C:\\Users\\pushy\\anaconda3\\Lib\\site-packages\\seaborn\\_oldcore.py:1498: FutureWarning: is_categorical_dtype is deprecated and will be removed in a future version. Use isinstance(dtype, CategoricalDtype) instead\n",
      "  if pd.api.types.is_categorical_dtype(vector):\n",
      "C:\\Users\\pushy\\anaconda3\\Lib\\site-packages\\seaborn\\_oldcore.py:1498: FutureWarning: is_categorical_dtype is deprecated and will be removed in a future version. Use isinstance(dtype, CategoricalDtype) instead\n",
      "  if pd.api.types.is_categorical_dtype(vector):\n",
      "C:\\Users\\pushy\\anaconda3\\Lib\\site-packages\\seaborn\\_oldcore.py:1498: FutureWarning: is_categorical_dtype is deprecated and will be removed in a future version. Use isinstance(dtype, CategoricalDtype) instead\n",
      "  if pd.api.types.is_categorical_dtype(vector):\n",
      "C:\\Users\\pushy\\anaconda3\\Lib\\site-packages\\seaborn\\_oldcore.py:1498: FutureWarning: is_categorical_dtype is deprecated and will be removed in a future version. Use isinstance(dtype, CategoricalDtype) instead\n",
      "  if pd.api.types.is_categorical_dtype(vector):\n",
      "C:\\Users\\pushy\\anaconda3\\Lib\\site-packages\\seaborn\\_oldcore.py:1498: FutureWarning: is_categorical_dtype is deprecated and will be removed in a future version. Use isinstance(dtype, CategoricalDtype) instead\n",
      "  if pd.api.types.is_categorical_dtype(vector):\n",
      "C:\\Users\\pushy\\anaconda3\\Lib\\site-packages\\seaborn\\_oldcore.py:1498: FutureWarning: is_categorical_dtype is deprecated and will be removed in a future version. Use isinstance(dtype, CategoricalDtype) instead\n",
      "  if pd.api.types.is_categorical_dtype(vector):\n"
     ]
    },
    {
     "data": {
      "image/png": "[encoded data removed]",
      "text/plain": [
       "<Figure size 500x500 with 1 Axes>"
      ]
     },
     "metadata": {},
     "output_type": "display_data"
    },
    {
     "data": {
      "image/png": "[encoded data removed]",
      "text/plain": [
       "<Figure size 500x500 with 1 Axes>"
      ]
     },
     "metadata": {},
     "output_type": "display_data"
    },
    {
     "data": {
      "image/png": "[encoded data removed]",
      "text/plain": [
       "<Figure size 500x500 with 1 Axes>"
      ]
     },
     "metadata": {},
     "output_type": "display_data"
    }
   ],
   "source": [
    "# creating visualisations clustered by Seller_Type\n",
    "ds.visualizations.countplot(data_df, separate_by = 'Seller_Type')"
   ]
  },
  {
   "cell_type": "markdown",
   "id": "3687dca8-52b9-40d1-bd12-6dfdcf50aa16",
   "metadata": {},
   "source": [
    "# **Feature Engineering**\n",
    "\n",
    "I will also use the `datasist` library to perform basic feature engineering to help the workflow of the model.\n",
    "\n",
    "Feature engineering steps:\n",
    "- Fill in the missing values\n",
    "- Createing new features (Converting years to the 'Age' of the car)\n",
    "- One Hot Encoding\n",
    "- Selecting features for modelling\n",
    "\n",
    "> Main goal of this process is to get the ebst results from an ML algorithm (accurate predictions without overfitting). This means low RMSE on test set."
   ]
  },
  {
   "cell_type": "code",
   "execution_count": 8,
   "id": "c5057731-e068-4163-aa0c-fbaf608b37fc",
   "metadata": {
    "tags": []
   },
   "outputs": [],
   "source": [
    "# fill in cat. data with mode \n",
    "data_df = ds.feature_engineering.fill_missing_cats(data_df)\n",
    "\n",
    "# fill in num. data with mean \n",
    "data_df = ds.feature_engineering.fill_missing_num(data_df)\n"
   ]
  },
  {
   "cell_type": "code",
   "execution_count": 9,
   "id": "981f05fd-d2c7-457b-b5a6-483fa501c2da",
   "metadata": {
    "tags": []
   },
   "outputs": [],
   "source": [
    "# Convert Year to Age\n",
    "data_df['Age'] = dt.now().year - data_df['Year']\n",
    "data_df['Age'] = data_df['Age'].astype(int)\n",
    "data_df = data_df.drop('Year', axis = 1)"
   ]
  },
  {
   "cell_type": "markdown",
   "id": "14a4e35e-8d4f-406b-8c81-4dc09f5c307c",
   "metadata": {},
   "source": [
    "Dropping the `Car_Name` as this model is only going to take the technical features of the car to determine the price and also to remove any bias it might have against the car brands itself."
   ]
  },
  {
   "cell_type": "code",
   "execution_count": 10,
   "id": "a500328f-ad58-490a-a586-65b3fc7677f4",
   "metadata": {
    "tags": []
   },
   "outputs": [],
   "source": [
    "data_df = data_df.drop('Car_Name', axis = 1)"
   ]
  },
  {
   "cell_type": "code",
   "execution_count": 11,
   "id": "bb73353e-7ea7-45de-97bc-1021cd7d3e4e",
   "metadata": {
    "tags": []
   },
   "outputs": [
    {
     "data": {
      "text/html": [
       "<div>\n",
       "<style scoped>\n",
       "    .dataframe tbody tr th:only-of-type {\n",
       "        vertical-align: middle;\n",
       "    }\n",
       "\n",
       "    .dataframe tbody tr th {\n",
       "        vertical-align: top;\n",
       "    }\n",
       "\n",
       "    .dataframe thead th {\n",
       "        text-align: right;\n",
       "    }\n",
       "</style>\n",
       "<table border=\"1\" class=\"dataframe\">\n",
       "  <thead>\n",
       "    <tr style=\"text-align: right;\">\n",
       "      <th></th>\n",
       "      <th>Present_Price</th>\n",
       "      <th>Kms_Driven</th>\n",
       "      <th>Owner</th>\n",
       "      <th>Selling_Price</th>\n",
       "      <th>Age</th>\n",
       "      <th>Fuel_Type_Diesel</th>\n",
       "      <th>Fuel_Type_Petrol</th>\n",
       "      <th>Seller_Type_Individual</th>\n",
       "      <th>Transmission_Manual</th>\n",
       "    </tr>\n",
       "  </thead>\n",
       "  <tbody>\n",
       "    <tr>\n",
       "      <th>0</th>\n",
       "      <td>12417.55</td>\n",
       "      <td>33217.0</td>\n",
       "      <td>0.0</td>\n",
       "      <td>11717.50</td>\n",
       "      <td>8</td>\n",
       "      <td>False</td>\n",
       "      <td>True</td>\n",
       "      <td>True</td>\n",
       "      <td>True</td>\n",
       "    </tr>\n",
       "    <tr>\n",
       "      <th>1</th>\n",
       "      <td>10633.13</td>\n",
       "      <td>12905.0</td>\n",
       "      <td>0.0</td>\n",
       "      <td>9931.75</td>\n",
       "      <td>7</td>\n",
       "      <td>False</td>\n",
       "      <td>True</td>\n",
       "      <td>False</td>\n",
       "      <td>True</td>\n",
       "    </tr>\n",
       "    <tr>\n",
       "      <th>2</th>\n",
       "      <td>10881.40</td>\n",
       "      <td>62053.0</td>\n",
       "      <td>0.0</td>\n",
       "      <td>10180.25</td>\n",
       "      <td>9</td>\n",
       "      <td>True</td>\n",
       "      <td>False</td>\n",
       "      <td>False</td>\n",
       "      <td>True</td>\n",
       "    </tr>\n",
       "    <tr>\n",
       "      <th>3</th>\n",
       "      <td>11107.79</td>\n",
       "      <td>43897.0</td>\n",
       "      <td>0.0</td>\n",
       "      <td>10404.75</td>\n",
       "      <td>8</td>\n",
       "      <td>True</td>\n",
       "      <td>False</td>\n",
       "      <td>False</td>\n",
       "      <td>True</td>\n",
       "    </tr>\n",
       "    <tr>\n",
       "      <th>4</th>\n",
       "      <td>10316.40</td>\n",
       "      <td>4108.0</td>\n",
       "      <td>0.0</td>\n",
       "      <td>9614.00</td>\n",
       "      <td>8</td>\n",
       "      <td>False</td>\n",
       "      <td>True</td>\n",
       "      <td>False</td>\n",
       "      <td>True</td>\n",
       "    </tr>\n",
       "  </tbody>\n",
       "</table>\n",
       "</div>"
      ],
      "text/plain": [
       "   Present_Price  Kms_Driven  Owner  Selling_Price  Age  Fuel_Type_Diesel  \\\n",
       "0       12417.55     33217.0    0.0       11717.50    8             False   \n",
       "1       10633.13     12905.0    0.0        9931.75    7             False   \n",
       "2       10881.40     62053.0    0.0       10180.25    9              True   \n",
       "3       11107.79     43897.0    0.0       10404.75    8              True   \n",
       "4       10316.40      4108.0    0.0        9614.00    8             False   \n",
       "\n",
       "   Fuel_Type_Petrol  Seller_Type_Individual  Transmission_Manual  \n",
       "0              True                    True                 True  \n",
       "1              True                   False                 True  \n",
       "2             False                   False                 True  \n",
       "3             False                   False                 True  \n",
       "4              True                   False                 True  "
      ]
     },
     "execution_count": 11,
     "metadata": {},
     "output_type": "execute_result"
    }
   ],
   "source": [
    "# OneHot encoding to get rid of the textural features\n",
    "data_df = pd.get_dummies(data_df, drop_first = True)\n",
    "data_df.head()"
   ]
  },
  {
   "cell_type": "code",
   "execution_count": 12,
   "id": "21bd4c6a-54a7-4556-b8ed-f97c2eeea627",
   "metadata": {
    "tags": []
   },
   "outputs": [
    {
     "data": {
      "text/html": [
       "<div>\n",
       "<style scoped>\n",
       "    .dataframe tbody tr th:only-of-type {\n",
       "        vertical-align: middle;\n",
       "    }\n",
       "\n",
       "    .dataframe tbody tr th {\n",
       "        vertical-align: top;\n",
       "    }\n",
       "\n",
       "    .dataframe thead th {\n",
       "        text-align: right;\n",
       "    }\n",
       "</style>\n",
       "<table border=\"1\" class=\"dataframe\">\n",
       "  <thead>\n",
       "    <tr style=\"text-align: right;\">\n",
       "      <th></th>\n",
       "      <th>Present_Price</th>\n",
       "      <th>Kms_Driven</th>\n",
       "      <th>Owner</th>\n",
       "      <th>Selling_Price</th>\n",
       "      <th>Age</th>\n",
       "      <th>Fuel_Type_Diesel</th>\n",
       "      <th>Fuel_Type_Petrol</th>\n",
       "      <th>Seller_Type_Individual</th>\n",
       "      <th>Transmission_Manual</th>\n",
       "    </tr>\n",
       "  </thead>\n",
       "  <tbody>\n",
       "    <tr>\n",
       "      <th>0</th>\n",
       "      <td>12417.55</td>\n",
       "      <td>33217.0</td>\n",
       "      <td>0.0</td>\n",
       "      <td>11717.50</td>\n",
       "      <td>8</td>\n",
       "      <td>0</td>\n",
       "      <td>1</td>\n",
       "      <td>1</td>\n",
       "      <td>1</td>\n",
       "    </tr>\n",
       "    <tr>\n",
       "      <th>1</th>\n",
       "      <td>10633.13</td>\n",
       "      <td>12905.0</td>\n",
       "      <td>0.0</td>\n",
       "      <td>9931.75</td>\n",
       "      <td>7</td>\n",
       "      <td>0</td>\n",
       "      <td>1</td>\n",
       "      <td>0</td>\n",
       "      <td>1</td>\n",
       "    </tr>\n",
       "    <tr>\n",
       "      <th>2</th>\n",
       "      <td>10881.40</td>\n",
       "      <td>62053.0</td>\n",
       "      <td>0.0</td>\n",
       "      <td>10180.25</td>\n",
       "      <td>9</td>\n",
       "      <td>1</td>\n",
       "      <td>0</td>\n",
       "      <td>0</td>\n",
       "      <td>1</td>\n",
       "    </tr>\n",
       "    <tr>\n",
       "      <th>3</th>\n",
       "      <td>11107.79</td>\n",
       "      <td>43897.0</td>\n",
       "      <td>0.0</td>\n",
       "      <td>10404.75</td>\n",
       "      <td>8</td>\n",
       "      <td>1</td>\n",
       "      <td>0</td>\n",
       "      <td>0</td>\n",
       "      <td>1</td>\n",
       "    </tr>\n",
       "    <tr>\n",
       "      <th>4</th>\n",
       "      <td>10316.40</td>\n",
       "      <td>4108.0</td>\n",
       "      <td>0.0</td>\n",
       "      <td>9614.00</td>\n",
       "      <td>8</td>\n",
       "      <td>0</td>\n",
       "      <td>1</td>\n",
       "      <td>0</td>\n",
       "      <td>1</td>\n",
       "    </tr>\n",
       "  </tbody>\n",
       "</table>\n",
       "</div>"
      ],
      "text/plain": [
       "   Present_Price  Kms_Driven  Owner  Selling_Price  Age  Fuel_Type_Diesel  \\\n",
       "0       12417.55     33217.0    0.0       11717.50    8                 0   \n",
       "1       10633.13     12905.0    0.0        9931.75    7                 0   \n",
       "2       10881.40     62053.0    0.0       10180.25    9                 1   \n",
       "3       11107.79     43897.0    0.0       10404.75    8                 1   \n",
       "4       10316.40      4108.0    0.0        9614.00    8                 0   \n",
       "\n",
       "   Fuel_Type_Petrol  Seller_Type_Individual  Transmission_Manual  \n",
       "0                 1                       1                    1  \n",
       "1                 1                       0                    1  \n",
       "2                 0                       0                    1  \n",
       "3                 0                       0                    1  \n",
       "4                 1                       0                    1  "
      ]
     },
     "execution_count": 12,
     "metadata": {},
     "output_type": "execute_result"
    }
   ],
   "source": [
    "# converting bools to ints for better measurements and model building\n",
    "data_df['Fuel_Type_Diesel'] = data_df['Fuel_Type_Diesel'].astype(int)\n",
    "data_df['Fuel_Type_Petrol'] = data_df['Fuel_Type_Petrol'].astype(int)\n",
    "data_df['Seller_Type_Individual'] = data_df['Seller_Type_Individual'].astype(int)\n",
    "data_df['Transmission_Manual'] = data_df['Transmission_Manual'].astype(int)\n",
    "data_df.head()"
   ]
  },
  {
   "cell_type": "code",
   "execution_count": 13,
   "id": "c2b19c22-bb4d-4fc6-9d1f-c24228f95803",
   "metadata": {
    "tags": []
   },
   "outputs": [
    {
     "data": {
      "text/plain": [
       "<Axes: >"
      ]
     },
     "execution_count": 13,
     "metadata": {},
     "output_type": "execute_result"
    },
    {
     "data": {
      "image/png": "[encoded data removed]",
      "text/plain": [
       "<Figure size 1500x1000 with 2 Axes>"
      ]
     },
     "metadata": {},
     "output_type": "display_data"
    }
   ],
   "source": [
    "# Create correlation heatmap for feature selection\n",
    "plt.rcParams['figure.figsize'] = [15,10]\n",
    "sns.heatmap(data_df.corr(), annot = True)"
   ]
  },
  {
   "cell_type": "markdown",
   "id": "f6e71ede-7ef1-42f4-975e-aa46ad9c5fcf",
   "metadata": {},
   "source": [
    "Heatmap is used to check for multicollinearity and the correlation of the predictor with the response variable where the correlation coefficient of the predictors should be statistically significant enough:\n",
    "\n",
    "$$\\begin{align}&t_{stat} = r \\sqrt{\\left( \\frac{n-2}{1-r^{2}} \\right)} \\\\ &P(t > t_{test} | H_0 \\text{ is true }) > \\alpha\\end{align}$$\n",
    "\n",
    "However as the main goal of this project is to have a good enough model and focus on the model deployment, I will be choosing the threshold ($\\alpha$) arbitrarily, according to which all the variables are chosen. \n",
    "\n",
    "`Present_Price` seems to have a correlation of $1$ with the resposne variable, `Selling_Price` which could lead to overfitting and dominating other predictors. Thus, I will be creating 2 models, one with and one without to check whether the domination of other predictors will indeed happen or not"
   ]
  },
  {
   "cell_type": "code",
   "execution_count": null,
   "id": "ba98ba84-59e8-4c44-8316-34810750993e",
   "metadata": {},
   "outputs": [],
   "source": []
  },
  {
   "cell_type": "markdown",
   "id": "94fe6e54-66e0-4509-b907-5170f4018c3c",
   "metadata": {},
   "source": [
    "# **Training the model**"
   ]
  },
  {
   "cell_type": "code",
   "execution_count": 14,
   "id": "f8e34936-c5b9-4bfb-bfe8-bb1ead04869f",
   "metadata": {
    "tags": []
   },
   "outputs": [],
   "source": [
    "# creating data with present price\n",
    "data_df_all = data_df\n",
    "\n",
    "# creating data without present price\n",
    "data_df_no_price = data_df.drop('Present_Price', axis = 1)"
   ]
  },
  {
   "cell_type": "code",
   "execution_count": 15,
   "id": "ac513325-35c1-40f2-8ec9-d29b2cefc0cc",
   "metadata": {
    "tags": []
   },
   "outputs": [],
   "source": [
    "# creating a training function\n",
    "def fit_rf_model(data: pd.DataFrame, output: str):\n",
    "    X = data.drop(output, axis = 1)\n",
    "    y = data[output]\n",
    "    x_train, x_test, y_train, y_test = train_test_split(X, y, test_size = 0.2 , random_state = 42)\n",
    "    model = RandomForestRegressor()\n",
    "    model.fit(x_train, y_train)\n",
    "    pred = model.predict(x_test)\n",
    "    print('RMSE: ', np.sqrt(metrics.mean_squared_error(y_test, pred)))\n",
    "    feat_importance = pd.Series(model.feature_importances_, index = x_train.columns)\n",
    "    feat_importance.nlargest(5).plot(kind = 'barh', figsize = (15,5))\n",
    "    plt.show()\n",
    "    return model"
   ]
  },
  {
   "cell_type": "markdown",
   "id": "c265e5c5-f24f-49d9-88e9-f56a57ce3c7d",
   "metadata": {},
   "source": [
    "Since We clearly do not want only one predicotr that is highly correlated to be responsible for predicting everything, the final model is going to be trained without the `Present_Price` predictor."
   ]
  },
  {
   "cell_type": "code",
   "execution_count": 16,
   "id": "f9878530-60b9-46fe-844f-1e32eb407c79",
   "metadata": {
    "tags": []
   },
   "outputs": [
    {
     "name": "stdout",
     "output_type": "stream",
     "text": [
      "RMSE:  2.990064756997696\n"
     ]
    },
    {
     "data": {
      "image/png": "[encoded data removed]",
      "text/plain": [
       "<Figure size 1500x500 with 1 Axes>"
      ]
     },
     "metadata": {},
     "output_type": "display_data"
    }
   ],
   "source": [
    "model_all = fit_rf_model(data_df_all, 'Selling_Price')"
   ]
  },
  {
   "cell_type": "code",
   "execution_count": 17,
   "id": "46fe1e48-c119-464c-acb3-b5b7d669b240",
   "metadata": {
    "tags": []
   },
   "outputs": [
    {
     "name": "stdout",
     "output_type": "stream",
     "text": [
      "RMSE:  380.61810487931774\n"
     ]
    },
    {
     "data": {
      "image/png": "[encoded data removed]",
      "text/plain": [
       "<Figure size 1500x500 with 1 Axes>"
      ]
     },
     "metadata": {},
     "output_type": "display_data"
    }
   ],
   "source": [
    "model_no_price = fit_rf_model(data_df_no_price, 'Selling_Price')"
   ]
  },
  {
   "cell_type": "markdown",
   "id": "35088838-7c86-427e-b8cc-c9b9d5a82a36",
   "metadata": {},
   "source": [
    "# **Storing the model**"
   ]
  },
  {
   "cell_type": "markdown",
   "id": "fb32b71f-7d17-4b78-bd26-681c0c371c33",
   "metadata": {},
   "source": [
    "We are going to be storing the model offline such that it can be loaded for our API's to hit and predict"
   ]
  },
  {
   "cell_type": "code",
   "execution_count": 18,
   "id": "b917476b-192f-454b-b718-0029b49d1d94",
   "metadata": {
    "tags": []
   },
   "outputs": [],
   "source": [
    "file = open('rf_model.pkl', 'wb')\n",
    "pickle.dump(model_no_price, file)"
   ]
  },
  {
   "cell_type": "code",
   "execution_count": 22,
   "id": "3bf3a943-6931-4f93-8dc6-f916119187e6",
   "metadata": {
    "tags": []
   },
   "outputs": [
    {
     "data": {
      "text/html": [
       "<style>#sk-container-id-1 {color: black;}#sk-container-id-1 pre{padding: 0;}#sk-container-id-1 div.sk-toggleable {background-color: white;}#sk-container-id-1 label.sk-toggleable__label {cursor: pointer;display: block;width: 100%;margin-bottom: 0;padding: 0.3em;box-sizing: border-box;text-align: center;}#sk-container-id-1 label.sk-toggleable__label-arrow:before {content: \"▸\";float: left;margin-right: 0.25em;color: #696969;}#sk-container-id-1 label.sk-toggleable__label-arrow:hover:before {color: black;}#sk-container-id-1 div.sk-estimator:hover label.sk-toggleable__label-arrow:before {color: black;}#sk-container-id-1 div.sk-toggleable__content {max-height: 0;max-width: 0;overflow: hidden;text-align: left;background-color: #f0f8ff;}#sk-container-id-1 div.sk-toggleable__content pre {margin: 0.2em;color: black;border-radius: 0.25em;background-color: #f0f8ff;}#sk-container-id-1 input.sk-toggleable__control:checked~div.sk-toggleable__content {max-height: 200px;max-width: 100%;overflow: auto;}#sk-container-id-1 input.sk-toggleable__control:checked~label.sk-toggleable__label-arrow:before {content: \"▾\";}#sk-container-id-1 div.sk-estimator input.sk-toggleable__control:checked~label.sk-toggleable__label {background-color: #d4ebff;}#sk-container-id-1 div.sk-label input.sk-toggleable__control:checked~label.sk-toggleable__label {background-color: #d4ebff;}#sk-container-id-1 input.sk-hidden--visually {border: 0;clip: rect(1px 1px 1px 1px);clip: rect(1px, 1px, 1px, 1px);height: 1px;margin: -1px;overflow: hidden;padding: 0;position: absolute;width: 1px;}#sk-container-id-1 div.sk-estimator {font-family: monospace;background-color: #f0f8ff;border: 1px dotted black;border-radius: 0.25em;box-sizing: border-box;margin-bottom: 0.5em;}#sk-container-id-1 div.sk-estimator:hover {background-color: #d4ebff;}#sk-container-id-1 div.sk-parallel-item::after {content: \"\";width: 100%;border-bottom: 1px solid gray;flex-grow: 1;}#sk-container-id-1 div.sk-label:hover label.sk-toggleable__label {background-color: #d4ebff;}#sk-container-id-1 div.sk-serial::before {content: \"\";position: absolute;border-left: 1px solid gray;box-sizing: border-box;top: 0;bottom: 0;left: 50%;z-index: 0;}#sk-container-id-1 div.sk-serial {display: flex;flex-direction: column;align-items: center;background-color: white;padding-right: 0.2em;padding-left: 0.2em;position: relative;}#sk-container-id-1 div.sk-item {position: relative;z-index: 1;}#sk-container-id-1 div.sk-parallel {display: flex;align-items: stretch;justify-content: center;background-color: white;position: relative;}#sk-container-id-1 div.sk-item::before, #sk-container-id-1 div.sk-parallel-item::before {content: \"\";position: absolute;border-left: 1px solid gray;box-sizing: border-box;top: 0;bottom: 0;left: 50%;z-index: -1;}#sk-container-id-1 div.sk-parallel-item {display: flex;flex-direction: column;z-index: 1;position: relative;background-color: white;}#sk-container-id-1 div.sk-parallel-item:first-child::after {align-self: flex-end;width: 50%;}#sk-container-id-1 div.sk-parallel-item:last-child::after {align-self: flex-start;width: 50%;}#sk-container-id-1 div.sk-parallel-item:only-child::after {width: 0;}#sk-container-id-1 div.sk-dashed-wrapped {border: 1px dashed gray;margin: 0 0.4em 0.5em 0.4em;box-sizing: border-box;padding-bottom: 0.4em;background-color: white;}#sk-container-id-1 div.sk-label label {font-family: monospace;font-weight: bold;display: inline-block;line-height: 1.2em;}#sk-container-id-1 div.sk-label-container {text-align: center;}#sk-container-id-1 div.sk-container {/* jupyter's `normalize.less` sets `[hidden] { display: none; }` but bootstrap.min.css set `[hidden] { display: none !important; }` so we also need the `!important` here to be able to override the default hidden behavior on the sphinx rendered scikit-learn.org. See: https://github.com/scikit-learn/scikit-learn/issues/21755 */display: inline-block !important;position: relative;}#sk-container-id-1 div.sk-text-repr-fallback {display: none;}</style><div id=\"sk-container-id-1\" class=\"sk-top-container\"><div class=\"sk-text-repr-fallback\"><pre>RandomForestRegressor()</pre><b>In a Jupyter environment, please rerun this cell to show the HTML representation or trust the notebook. <br />On GitHub, the HTML representation is unable to render, please try loading this page with nbviewer.org.</b></div><div class=\"sk-container\" hidden><div class=\"sk-item\"><div class=\"sk-estimator sk-toggleable\"><input class=\"sk-toggleable__control sk-hidden--visually\" id=\"sk-estimator-id-1\" type=\"checkbox\" checked><label for=\"sk-estimator-id-1\" class=\"sk-toggleable__label sk-toggleable__label-arrow\">RandomForestRegressor</label><div class=\"sk-toggleable__content\"><pre>RandomForestRegressor()</pre></div></div></div></div></div>"
      ],
      "text/plain": [
       "RandomForestRegressor()"
      ]
     },
     "execution_count": 22,
     "metadata": {},
     "output_type": "execute_result"
    }
   ],
   "source": [
    "model = pickle.load(open('rf_model.pkl', 'rb'))    \n",
    "model"
   ]
  }
 ],
 "metadata": {
  "kernelspec": {
   "display_name": "Python 3 (ipykernel)",
   "language": "python",
   "name": "python3"
  },
  "language_info": {
   "codemirror_mode": {
    "name": "ipython",
    "version": 3
   },
   "file_extension": ".py",
   "mimetype": "text/x-python",
   "name": "python",
   "nbconvert_exporter": "python",
   "pygments_lexer": "ipython3",
   "version": "3.11.5"
  }
 },
 "nbformat": 4,
 "nbformat_minor": 5
}
